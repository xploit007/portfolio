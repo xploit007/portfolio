{
 "cells": [
  {
   "cell_type": "code",
   "execution_count": 2,
   "id": "5f04ef58",
   "metadata": {},
   "outputs": [],
   "source": [
    "import pandas as pd"
   ]
  },
  {
   "cell_type": "code",
   "execution_count": 2,
   "id": "657e522e",
   "metadata": {},
   "outputs": [],
   "source": [
    "from sklearn.utils import resample\n",
    "\n",
    "chunksize = 10 ** 5\n",
    "\n",
    "train_data = pd.DataFrame()\n",
    "for chunk in pd.read_csv(\"/Users/maverick/Downloads/BUAN 6341/train_data.csv\", chunksize=chunksize):\n",
    "    train_data = pd.concat([train_data, chunk])\n",
    "    \n",
    "train_labels = pd.DataFrame()\n",
    "for chunk in pd.read_csv(\"/Users/maverick/Downloads/BUAN 6341/train_labels.csv\", chunksize=chunksize):\n",
    "    train_labels = pd.concat([train_labels, chunk])\n",
    "\n",
    "# Randomly select 20% of observations from train_labels\n",
    "sample_labels = resample(train_labels, replace=False, n_samples=int(len(train_labels) * 0.2), random_state=42)"
   ]
  },
  {
   "cell_type": "code",
   "execution_count": 4,
   "id": "5f216c81",
   "metadata": {},
   "outputs": [],
   "source": [
    "# Merge the sampled labels with train_data\n",
    "development_sample = train_data.merge(sample_labels[['customer_ID', 'target']], how=\"inner\", on=\"customer_ID\")\n",
    "\n",
    "# Save the development sample\n",
    "development_sample.to_csv(\"/Users/maverick/Downloads/BUAN 6341/development_sample1.csv\", index=False)"
   ]
  },
  {
   "cell_type": "code",
   "execution_count": 60,
   "id": "c7be9643",
   "metadata": {},
   "outputs": [],
   "source": [
    "chunksize = 10 ** 5\n",
    "\n",
    "development_sample = pd.DataFrame()\n",
    "for chunk in pd.read_csv(\"/Users/maverick/Downloads/BUAN 6341/development_sample1.csv\", chunksize=chunksize):\n",
    "    development_sample = pd.concat([development_sample, chunk])"
   ]
  },
  {
   "cell_type": "code",
   "execution_count": 5,
   "id": "bda7e170",
   "metadata": {
    "collapsed": true
   },
   "outputs": [
    {
     "name": "stdout",
     "output_type": "stream",
     "text": [
      "\n",
      "Summary statistics:\n",
      "                P_2          D_39           B_1           B_2           R_1  \\\n",
      "count  1.097940e+06  1.107069e+06  1.107069e+06  1.106702e+06  1.107069e+06   \n",
      "mean   6.565960e-01  1.532376e-01  1.236050e-01  6.220934e-01  7.905943e-02   \n",
      "std    2.449943e-01  2.705313e-01  2.115772e-01  4.009464e-01  2.268095e-01   \n",
      "min   -4.205811e-01  9.052854e-09 -1.832537e+00  5.485064e-08  1.065542e-08   \n",
      "25%    4.809022e-01  4.535612e-03  8.823934e-03  1.064625e-01  2.892853e-03   \n",
      "50%    6.950928e-01  9.056126e-03  3.118192e-02  8.143289e-01  5.778174e-03   \n",
      "75%    8.651769e-01  2.367280e-01  1.256333e-01  1.002380e+00  8.664453e-03   \n",
      "max    1.010000e+00  5.362196e+00  1.324059e+00  1.010000e+00  3.006102e+00   \n",
      "\n",
      "                 S_3          D_41           B_3           D_42          D_43  \\\n",
      "count  901108.000000  1.106702e+06  1.106702e+06  157137.000000  7.757750e+05   \n",
      "mean        0.224457  5.996630e-02  1.322328e-01       0.185299  1.542663e-01   \n",
      "std         0.191222  2.034452e-01  2.351610e-01       0.231842  2.116134e-01   \n",
      "min        -0.482273  5.566545e-10  8.528496e-08      -0.000282  6.194853e-07   \n",
      "25%         0.126902  2.867874e-03  5.217267e-03       0.037107  4.237023e-02   \n",
      "50%         0.163659  5.750069e-03  9.752020e-03       0.120544  8.810044e-02   \n",
      "75%         0.256192  8.624365e-03  1.537451e-01       0.249656  1.841554e-01   \n",
      "max         5.018255  8.988807e+00  1.588912e+00       4.186889  9.321696e+00   \n",
      "\n",
      "       ...         D_137         D_138         D_139         D_140  \\\n",
      "count  ...  3.682800e+04  3.682800e+04  1.087029e+06  1.098964e+06   \n",
      "mean   ...  1.441218e-02  1.670454e-01  1.783776e-01  2.629290e-02   \n",
      "std    ...  9.651356e-02  2.704849e-01  3.785820e-01  1.443953e-01   \n",
      "min    ...  1.029558e-07  3.004642e-07  2.124825e-08  5.186710e-09   \n",
      "25%    ...  2.550521e-03  3.536635e-03  3.028288e-03  2.551923e-03   \n",
      "50%    ...  5.082134e-03  7.079575e-03  6.052707e-03  5.105460e-03   \n",
      "75%    ...  7.585492e-03  5.016379e-01  9.075287e-03  7.662059e-03   \n",
      "max    ...  1.009983e+00  2.509600e+00  1.010000e+00  1.010000e+00   \n",
      "\n",
      "              D_141          D_142         D_143         D_144         D_145  \\\n",
      "count  1.087029e+06  188463.000000  1.087029e+06  1.098943e+06  1.087029e+06   \n",
      "mean   1.640342e-01       0.390392  1.782226e-01  5.219141e-02  6.218730e-02   \n",
      "std    3.478852e-01       0.235563  3.784513e-01  1.821497e-01  1.936904e-01   \n",
      "min    8.690970e-09      -0.014441  2.565179e-08  4.701217e-09  2.811854e-09   \n",
      "25%    3.024333e-03       0.200952  3.026800e-03  2.757368e-03  3.025879e-03   \n",
      "50%    6.046464e-03       0.381682  6.044111e-03  5.505806e-03  6.048983e-03   \n",
      "75%    9.074516e-03       0.557324  9.070643e-03  8.261487e-03  9.080104e-03   \n",
      "max    1.305199e+00       2.145717  1.010000e+00  1.343331e+00  4.827630e+00   \n",
      "\n",
      "             target  \n",
      "count  1.107069e+06  \n",
      "mean   2.465013e-01  \n",
      "std    4.309740e-01  \n",
      "min    0.000000e+00  \n",
      "25%    0.000000e+00  \n",
      "50%    0.000000e+00  \n",
      "75%    0.000000e+00  \n",
      "max    1.000000e+00  \n",
      "\n",
      "[8 rows x 187 columns]\n",
      "\n",
      "Missing values:\n",
      "customer_ID         0\n",
      "S_2                 0\n",
      "P_2              9129\n",
      "D_39                0\n",
      "B_1                 0\n",
      "                ...  \n",
      "D_142          918606\n",
      "D_143           20040\n",
      "D_144            8126\n",
      "D_145           20040\n",
      "target              0\n",
      "Length: 191, dtype: int64\n"
     ]
    }
   ],
   "source": [
    "# Summary statistics\n",
    "print(\"\\nSummary statistics:\")\n",
    "print(development_sample.describe())\n",
    "\n",
    "# Check for missing values\n",
    "print(\"\\nMissing values:\")\n",
    "print(development_sample.isnull().sum())"
   ]
  },
  {
   "cell_type": "code",
   "execution_count": 7,
   "id": "0bc0ded8",
   "metadata": {
    "collapsed": true
   },
   "outputs": [
    {
     "name": "stdout",
     "output_type": "stream",
     "text": [
      "Number of rows: 1107069\n",
      "Number of columns: 191\n",
      "\n",
      "Data types:\n",
      "customer_ID     object\n",
      "S_2             object\n",
      "P_2            float64\n",
      "D_39           float64\n",
      "B_1            float64\n",
      "                ...   \n",
      "D_142          float64\n",
      "D_143          float64\n",
      "D_144          float64\n",
      "D_145          float64\n",
      "target           int64\n",
      "Length: 191, dtype: object\n",
      "\n",
      "Data snapshot:\n",
      "                                         customer_ID         S_2       P_2  \\\n",
      "0  000098081fde4fd64bc4d503a5d6f86a0aedc425c96f52...  2017-03-11  0.374606   \n",
      "1  000098081fde4fd64bc4d503a5d6f86a0aedc425c96f52...  2017-04-22  0.414269   \n",
      "2  000098081fde4fd64bc4d503a5d6f86a0aedc425c96f52...  2017-05-12  0.413310   \n",
      "3  000098081fde4fd64bc4d503a5d6f86a0aedc425c96f52...  2017-06-10  0.328983   \n",
      "4  000098081fde4fd64bc4d503a5d6f86a0aedc425c96f52...  2017-07-19  0.496989   \n",
      "\n",
      "       D_39       B_1       B_2       R_1       S_3      D_41       B_3  ...  \\\n",
      "0  0.033519  0.044293  1.008622  0.001470  0.459235  0.002339  0.006168  ...   \n",
      "1  0.002516  0.059667  0.123964  0.004374  0.434148  0.001405  0.052130  ...   \n",
      "2  0.003285  0.053418  0.304955  0.002316  0.415906  0.009388  0.048780  ...   \n",
      "3  0.038574  0.049463  0.115654  0.004654  0.416112  0.003223  0.081001  ...   \n",
      "4  0.005552  0.041452  0.133631  0.007363  0.419864  0.003393  0.098308  ...   \n",
      "\n",
      "   D_137  D_138     D_139     D_140     D_141  D_142     D_143     D_144  \\\n",
      "0    NaN    NaN  0.008263  0.006609  0.007370    NaN  0.007171  0.005120   \n",
      "1    NaN    NaN  0.001986  0.004050  0.000796    NaN  0.001802  0.002364   \n",
      "2    NaN    NaN  0.009515  0.008757  0.009219    NaN  0.003134  0.001686   \n",
      "3    NaN    NaN  0.002524  0.007841  0.007421    NaN  0.000728  0.003591   \n",
      "4    NaN    NaN  0.003823  0.009599  0.006957    NaN  0.008746  0.007101   \n",
      "\n",
      "      D_145  target  \n",
      "0  0.007513       0  \n",
      "1  0.003987       0  \n",
      "2  0.001265       0  \n",
      "3  0.007998       0  \n",
      "4  0.006658       0  \n",
      "\n",
      "[5 rows x 191 columns]\n"
     ]
    }
   ],
   "source": [
    "# Data size\n",
    "print(f\"Number of rows: {development_sample.shape[0]}\")\n",
    "print(f\"Number of columns: {development_sample.shape[1]}\")\n",
    "\n",
    "# Data types of features\n",
    "print(\"\\nData types:\")\n",
    "print(development_sample.dtypes)\n",
    "\n",
    "# Snapshot of data\n",
    "print(\"\\nData snapshot:\")\n",
    "print(development_sample.head())"
   ]
  },
  {
   "cell_type": "code",
   "execution_count": 61,
   "id": "234a501a",
   "metadata": {},
   "outputs": [],
   "source": [
    "development_sample['S_2'] = pd.to_datetime(development_sample['S_2'])"
   ]
  },
  {
   "cell_type": "code",
   "execution_count": 62,
   "id": "79b38746",
   "metadata": {
    "collapsed": true
   },
   "outputs": [
    {
     "name": "stdout",
     "output_type": "stream",
     "text": [
      "['customer_ID', 'S_2', 'target', 'D_63_CL', 'D_63_CO', 'D_63_CR', 'D_63_XL', 'D_63_XM', 'D_63_XZ', 'D_64_-1', 'D_64_O', 'D_64_R', 'D_64_U', 'D_66_0.0', 'D_66_1.0', 'D_68_0.0', 'D_68_1.0', 'D_68_2.0', 'D_68_3.0', 'D_68_4.0', 'D_68_5.0', 'D_68_6.0', 'B_30_0.0', 'B_30_1.0', 'B_30_2.0', 'B_38_1.0', 'B_38_2.0', 'B_38_3.0', 'B_38_4.0', 'B_38_5.0', 'B_38_6.0', 'B_38_7.0', 'D_114_0.0', 'D_114_1.0', 'D_116_0.0', 'D_116_1.0', 'D_117_-1.0', 'D_117_1.0', 'D_117_2.0', 'D_117_3.0', 'D_117_4.0', 'D_117_5.0', 'D_117_6.0', 'D_120_0.0', 'D_120_1.0', 'D_126_-1.0', 'D_126_0.0', 'D_126_1.0']\n"
     ]
    }
   ],
   "source": [
    "import pandas as pd\n",
    "import numpy as np\n",
    "from sklearn.model_selection import train_test_split\n",
    "import xgboost as xgb\n",
    "from sklearn.metrics import roc_auc_score\n",
    "import matplotlib.pyplot as plt\n",
    "\n",
    "\n",
    "# Step 4: One-Hot Encoding\n",
    "features = development_sample.drop([ 'S_2' ], axis=1).columns.to_list()\n",
    "cat_col = [i for i in features if i.startswith('B_30')or i.startswith('B_38') or i.startswith('D_114') or i.startswith('D_116')or i.startswith('D_117') or i.startswith('D_120') or i.startswith('D_126') or i.startswith('D_63')or i.startswith('D_64')or i.startswith('D_66') or i.startswith('D_68')]\n",
    "ind_col = ['customer_ID', 'target']\n",
    "num_col = [col for col in features if col not in cat_col and col not in ind_col]\n",
    "# Iterate over each categorical column in cat_col\n",
    "for col in cat_col:\n",
    "    # Create dummy variables for the current categorical column\n",
    "    col_dummies = pd.get_dummies(development_sample[col], prefix=col)\n",
    "    # Concatenate the dummy variables with the DataFrame\n",
    "    development_sample = pd.concat([development_sample, col_dummies], axis=1)\n",
    "    # Drop the original categorical column from the DataFrame\n",
    "    development_sample.drop(col, axis=1, inplace=True)\n",
    "\n",
    "# Update cat_col to include the new dummy variable columns\n",
    "cat_col_updated = [col for col in development_sample.columns if col not in num_col]\n",
    "\n",
    "# Print the updated cat_col list\n",
    "print(cat_col_updated)\n",
    "\n",
    "# Remove 'S_2' and 'customer_ID' from the updated cat_col list\n",
    "cat_col = [col for col in cat_col_updated if col not in ['S_2', 'customer_ID' , 'target']]\n",
    "\n",
    "# Print the updated cat_col list\n",
    "print(cat_col)"
   ]
  },
  {
   "cell_type": "code",
   "execution_count": 66,
   "id": "0eef8b2e",
   "metadata": {},
   "outputs": [
    {
     "name": "stdout",
     "output_type": "stream",
     "text": [
      "(1107069, 225)\n"
     ]
    }
   ],
   "source": [
    "print(development_sample.shape)"
   ]
  },
  {
   "cell_type": "code",
   "execution_count": 67,
   "id": "df494eea",
   "metadata": {
    "collapsed": true
   },
   "outputs": [
    {
     "name": "stdout",
     "output_type": "stream",
     "text": [
      "                                                    P_2_mean   P_2_std  \\\n",
      "customer_ID                                                              \n",
      "000098081fde4fd64bc4d503a5d6f86a0aedc425c96f523...  0.444606  0.065085   \n",
      "000445609ff2a39d2dd02484899affa5696210a95f6869f...  0.972260  0.010865   \n",
      "0004837f0c785928a29a6f83f70f4a1c54caec483a773ff...  0.665203  0.028379   \n",
      "0004ec03ca1ab2adb9aa260c61ba5dce8185e19d3ab7040...  0.970309  0.005252   \n",
      "00050d84c6d26e26cd2b18c3eed83d3130c270e2361470f...  0.953131  0.031159   \n",
      "...                                                      ...       ...   \n",
      "fffe2bc02423407e33a607660caeed076d713d8a5ad3232...  0.513501  0.097925   \n",
      "ffff518bb2075e4816ee3fe9f3b152c57fc0e6f01bf7fdd...  0.859327  0.012425   \n",
      "ffff9984b999fccb2b6127635ed0736dda94e544e67e026...  0.786838  0.014312   \n",
      "ffffa5c46bc8de74f5a4554e74e239c8dee6b9baf388145...  0.804454  0.037442   \n",
      "fffff1d38b785cef84adeace64f8f83db3a0c31e8d92eab...  0.983617  0.012879   \n",
      "\n",
      "                                                     P_2_min   P_2_max  \\\n",
      "customer_ID                                                              \n",
      "000098081fde4fd64bc4d503a5d6f86a0aedc425c96f523...  0.328983  0.560474   \n",
      "000445609ff2a39d2dd02484899affa5696210a95f6869f...  0.949051  0.993348   \n",
      "0004837f0c785928a29a6f83f70f4a1c54caec483a773ff...  0.628740  0.712943   \n",
      "0004ec03ca1ab2adb9aa260c61ba5dce8185e19d3ab7040...  0.963991  0.980221   \n",
      "00050d84c6d26e26cd2b18c3eed83d3130c270e2361470f...  0.918010  1.006598   \n",
      "...                                                      ...       ...   \n",
      "fffe2bc02423407e33a607660caeed076d713d8a5ad3232...  0.405106  0.643031   \n",
      "ffff518bb2075e4816ee3fe9f3b152c57fc0e6f01bf7fdd...  0.831279  0.868121   \n",
      "ffff9984b999fccb2b6127635ed0736dda94e544e67e026...  0.756983  0.802953   \n",
      "ffffa5c46bc8de74f5a4554e74e239c8dee6b9baf388145...  0.754129  0.856981   \n",
      "fffff1d38b785cef84adeace64f8f83db3a0c31e8d92eab...  0.965709  1.005768   \n",
      "\n",
      "                                                    P_2_last  D_39_mean  \\\n",
      "customer_ID                                                               \n",
      "000098081fde4fd64bc4d503a5d6f86a0aedc425c96f523...  0.477116   0.010394   \n",
      "000445609ff2a39d2dd02484899affa5696210a95f6869f...  0.978897   0.005031   \n",
      "0004837f0c785928a29a6f83f70f4a1c54caec483a773ff...  0.642295   0.450042   \n",
      "0004ec03ca1ab2adb9aa260c61ba5dce8185e19d3ab7040...  0.980221   0.367651   \n",
      "00050d84c6d26e26cd2b18c3eed83d3130c270e2361470f...  1.006598   0.219669   \n",
      "...                                                      ...        ...   \n",
      "fffe2bc02423407e33a607660caeed076d713d8a5ad3232...  0.408619   0.228928   \n",
      "ffff518bb2075e4816ee3fe9f3b152c57fc0e6f01bf7fdd...  0.831279   0.066421   \n",
      "ffff9984b999fccb2b6127635ed0736dda94e544e67e026...  0.800522   0.221548   \n",
      "ffffa5c46bc8de74f5a4554e74e239c8dee6b9baf388145...  0.754129   0.030878   \n",
      "fffff1d38b785cef84adeace64f8f83db3a0c31e8d92eab...  0.982175   0.290399   \n",
      "\n",
      "                                                    D_39_std  D_39_min  \\\n",
      "customer_ID                                                              \n",
      "000098081fde4fd64bc4d503a5d6f86a0aedc425c96f523...  0.014735  0.000467   \n",
      "000445609ff2a39d2dd02484899affa5696210a95f6869f...  0.003067  0.000853   \n",
      "0004837f0c785928a29a6f83f70f4a1c54caec483a773ff...  0.208705  0.005359   \n",
      "0004ec03ca1ab2adb9aa260c61ba5dce8185e19d3ab7040...  0.228621  0.001281   \n",
      "00050d84c6d26e26cd2b18c3eed83d3130c270e2361470f...  0.279126  0.002253   \n",
      "...                                                      ...       ...   \n",
      "fffe2bc02423407e33a607660caeed076d713d8a5ad3232...  0.317499  0.003800   \n",
      "ffff518bb2075e4816ee3fe9f3b152c57fc0e6f01bf7fdd...  0.123937  0.007327   \n",
      "ffff9984b999fccb2b6127635ed0736dda94e544e67e026...  0.182743  0.000223   \n",
      "ffffa5c46bc8de74f5a4554e74e239c8dee6b9baf388145...  0.081779  0.001332   \n",
      "fffff1d38b785cef84adeace64f8f83db3a0c31e8d92eab...  0.176725  0.002230   \n",
      "\n",
      "                                                    D_39_max  D_39_last  ...  \\\n",
      "customer_ID                                                              ...   \n",
      "000098081fde4fd64bc4d503a5d6f86a0aedc425c96f523...  0.038574   0.000467  ...   \n",
      "000445609ff2a39d2dd02484899affa5696210a95f6869f...  0.009581   0.001221  ...   \n",
      "0004837f0c785928a29a6f83f70f4a1c54caec483a773ff...  0.685210   0.685210  ...   \n",
      "0004ec03ca1ab2adb9aa260c61ba5dce8185e19d3ab7040...  0.648389   0.009431  ...   \n",
      "00050d84c6d26e26cd2b18c3eed83d3130c270e2361470f...  0.976348   0.119977  ...   \n",
      "...                                                      ...        ...  ...   \n",
      "fffe2bc02423407e33a607660caeed076d713d8a5ad3232...  0.765793   0.765793  ...   \n",
      "ffff518bb2075e4816ee3fe9f3b152c57fc0e6f01bf7fdd...  0.478106   0.033670  ...   \n",
      "ffff9984b999fccb2b6127635ed0736dda94e544e67e026...  0.536278   0.267018  ...   \n",
      "ffffa5c46bc8de74f5a4554e74e239c8dee6b9baf388145...  0.300991   0.008619  ...   \n",
      "fffff1d38b785cef84adeace64f8f83db3a0c31e8d92eab...  0.563736   0.002474  ...   \n",
      "\n",
      "                                                    D_144_mean  D_144_std  \\\n",
      "customer_ID                                                                 \n",
      "000098081fde4fd64bc4d503a5d6f86a0aedc425c96f523...    0.005719   0.002498   \n",
      "000445609ff2a39d2dd02484899affa5696210a95f6869f...    0.004563   0.003056   \n",
      "0004837f0c785928a29a6f83f70f4a1c54caec483a773ff...    0.005006   0.003020   \n",
      "0004ec03ca1ab2adb9aa260c61ba5dce8185e19d3ab7040...    0.004497   0.003434   \n",
      "00050d84c6d26e26cd2b18c3eed83d3130c270e2361470f...    0.004060   0.003417   \n",
      "...                                                        ...        ...   \n",
      "fffe2bc02423407e33a607660caeed076d713d8a5ad3232...    0.004696   0.002790   \n",
      "ffff518bb2075e4816ee3fe9f3b152c57fc0e6f01bf7fdd...    0.006052   0.002825   \n",
      "ffff9984b999fccb2b6127635ed0736dda94e544e67e026...    0.004860   0.002944   \n",
      "ffffa5c46bc8de74f5a4554e74e239c8dee6b9baf388145...    0.005287   0.002728   \n",
      "fffff1d38b785cef84adeace64f8f83db3a0c31e8d92eab...    0.004962   0.002986   \n",
      "\n",
      "                                                    D_144_min  D_144_max  \\\n",
      "customer_ID                                                                \n",
      "000098081fde4fd64bc4d503a5d6f86a0aedc425c96f523...   0.001686   0.009770   \n",
      "000445609ff2a39d2dd02484899affa5696210a95f6869f...   0.000085   0.009052   \n",
      "0004837f0c785928a29a6f83f70f4a1c54caec483a773ff...   0.000750   0.009646   \n",
      "0004ec03ca1ab2adb9aa260c61ba5dce8185e19d3ab7040...   0.000179   0.009167   \n",
      "00050d84c6d26e26cd2b18c3eed83d3130c270e2361470f...   0.000059   0.009935   \n",
      "...                                                       ...        ...   \n",
      "fffe2bc02423407e33a607660caeed076d713d8a5ad3232...   0.000321   0.009165   \n",
      "ffff518bb2075e4816ee3fe9f3b152c57fc0e6f01bf7fdd...   0.001254   0.009966   \n",
      "ffff9984b999fccb2b6127635ed0736dda94e544e67e026...   0.000340   0.009002   \n",
      "ffffa5c46bc8de74f5a4554e74e239c8dee6b9baf388145...   0.001186   0.009836   \n",
      "fffff1d38b785cef84adeace64f8f83db3a0c31e8d92eab...   0.001168   0.009627   \n",
      "\n",
      "                                                    D_144_last  D_145_mean  \\\n",
      "customer_ID                                                                  \n",
      "000098081fde4fd64bc4d503a5d6f86a0aedc425c96f523...    0.003703    0.005654   \n",
      "000445609ff2a39d2dd02484899affa5696210a95f6869f...    0.004060    0.004215   \n",
      "0004837f0c785928a29a6f83f70f4a1c54caec483a773ff...    0.005832    0.004138   \n",
      "0004ec03ca1ab2adb9aa260c61ba5dce8185e19d3ab7040...    0.007432    0.005466   \n",
      "00050d84c6d26e26cd2b18c3eed83d3130c270e2361470f...    0.004934    0.006201   \n",
      "...                                                        ...         ...   \n",
      "fffe2bc02423407e33a607660caeed076d713d8a5ad3232...    0.003953    0.006129   \n",
      "ffff518bb2075e4816ee3fe9f3b152c57fc0e6f01bf7fdd...    0.009230    0.005622   \n",
      "ffff9984b999fccb2b6127635ed0736dda94e544e67e026...    0.000340    0.003917   \n",
      "ffffa5c46bc8de74f5a4554e74e239c8dee6b9baf388145...    0.002502    0.186632   \n",
      "fffff1d38b785cef84adeace64f8f83db3a0c31e8d92eab...    0.003184    0.005934   \n",
      "\n",
      "                                                    D_145_std  D_145_min  \\\n",
      "customer_ID                                                                \n",
      "000098081fde4fd64bc4d503a5d6f86a0aedc425c96f523...   0.002304   0.001265   \n",
      "000445609ff2a39d2dd02484899affa5696210a95f6869f...   0.002971   0.000315   \n",
      "0004837f0c785928a29a6f83f70f4a1c54caec483a773ff...   0.003501   0.000057   \n",
      "0004ec03ca1ab2adb9aa260c61ba5dce8185e19d3ab7040...   0.002915   0.000411   \n",
      "00050d84c6d26e26cd2b18c3eed83d3130c270e2361470f...   0.003082   0.000516   \n",
      "...                                                       ...        ...   \n",
      "fffe2bc02423407e33a607660caeed076d713d8a5ad3232...   0.003002   0.001390   \n",
      "ffff518bb2075e4816ee3fe9f3b152c57fc0e6f01bf7fdd...   0.001671   0.002929   \n",
      "ffff9984b999fccb2b6127635ed0736dda94e544e67e026...   0.002744   0.000204   \n",
      "ffffa5c46bc8de74f5a4554e74e239c8dee6b9baf388145...   0.003162   0.182622   \n",
      "fffff1d38b785cef84adeace64f8f83db3a0c31e8d92eab...   0.002911   0.001914   \n",
      "\n",
      "                                                    D_145_max  D_145_last  \n",
      "customer_ID                                                                \n",
      "000098081fde4fd64bc4d503a5d6f86a0aedc425c96f523...   0.009131    0.006274  \n",
      "000445609ff2a39d2dd02484899affa5696210a95f6869f...   0.009732    0.000315  \n",
      "0004837f0c785928a29a6f83f70f4a1c54caec483a773ff...   0.008884    0.000346  \n",
      "0004ec03ca1ab2adb9aa260c61ba5dce8185e19d3ab7040...   0.009780    0.009696  \n",
      "00050d84c6d26e26cd2b18c3eed83d3130c270e2361470f...   0.009825    0.007411  \n",
      "...                                                       ...         ...  \n",
      "fffe2bc02423407e33a607660caeed076d713d8a5ad3232...   0.009487    0.006302  \n",
      "ffff518bb2075e4816ee3fe9f3b152c57fc0e6f01bf7fdd...   0.007776    0.006435  \n",
      "ffff9984b999fccb2b6127635ed0736dda94e544e67e026...   0.008535    0.002148  \n",
      "ffffa5c46bc8de74f5a4554e74e239c8dee6b9baf388145...   0.191400    0.185527  \n",
      "fffff1d38b785cef84adeace64f8f83db3a0c31e8d92eab...   0.009291    0.001914  \n",
      "\n",
      "[91782 rows x 885 columns]\n",
      "(91782, 885)\n"
     ]
    },
    {
     "name": "stdout",
     "output_type": "stream",
     "text": [
      "(1107069, 1110)\n"
     ]
    }
   ],
   "source": [
    "import pandas as pd\n",
    "\n",
    "df_num_agg = development_sample.groupby('customer_ID')[num_col].agg(['mean', 'std', 'min', 'max', 'last'])\n",
    "df_num_agg.columns = ['_'.join(x) for x in df_num_agg.columns]\n",
    "print(df_num_agg)\n",
    "print(df_num_agg.shape)\n",
    "development_sample = pd.merge(development_sample, df_num_agg, on='customer_ID')\n",
    "print(development_sample.shape)"
   ]
  },
  {
   "cell_type": "code",
   "execution_count": 70,
   "id": "07de9246",
   "metadata": {
    "collapsed": true
   },
   "outputs": [
    {
     "name": "stdout",
     "output_type": "stream",
     "text": [
      "                                                    D_66_mean  D_66_max  \\\n",
      "customer_ID                                                               \n",
      "000098081fde4fd64bc4d503a5d6f86a0aedc425c96f523...        NaN       NaN   \n",
      "000445609ff2a39d2dd02484899affa5696210a95f6869f...        NaN       NaN   \n",
      "0004837f0c785928a29a6f83f70f4a1c54caec483a773ff...        NaN       NaN   \n",
      "0004ec03ca1ab2adb9aa260c61ba5dce8185e19d3ab7040...        NaN       NaN   \n",
      "00050d84c6d26e26cd2b18c3eed83d3130c270e2361470f...        NaN       NaN   \n",
      "...                                                       ...       ...   \n",
      "fffe2bc02423407e33a607660caeed076d713d8a5ad3232...        NaN       NaN   \n",
      "ffff518bb2075e4816ee3fe9f3b152c57fc0e6f01bf7fdd...        NaN       NaN   \n",
      "ffff9984b999fccb2b6127635ed0736dda94e544e67e026...        NaN       NaN   \n",
      "ffffa5c46bc8de74f5a4554e74e239c8dee6b9baf388145...        NaN       NaN   \n",
      "fffff1d38b785cef84adeace64f8f83db3a0c31e8d92eab...        NaN       NaN   \n",
      "\n",
      "                                                    D_114_mean  D_114_max  \\\n",
      "customer_ID                                                                 \n",
      "000098081fde4fd64bc4d503a5d6f86a0aedc425c96f523...    0.000000        0.0   \n",
      "000445609ff2a39d2dd02484899affa5696210a95f6869f...    1.000000        1.0   \n",
      "0004837f0c785928a29a6f83f70f4a1c54caec483a773ff...    1.000000        1.0   \n",
      "0004ec03ca1ab2adb9aa260c61ba5dce8185e19d3ab7040...    1.000000        1.0   \n",
      "00050d84c6d26e26cd2b18c3eed83d3130c270e2361470f...    1.000000        1.0   \n",
      "...                                                        ...        ...   \n",
      "fffe2bc02423407e33a607660caeed076d713d8a5ad3232...    0.000000        0.0   \n",
      "ffff518bb2075e4816ee3fe9f3b152c57fc0e6f01bf7fdd...    1.000000        1.0   \n",
      "ffff9984b999fccb2b6127635ed0736dda94e544e67e026...    1.000000        1.0   \n",
      "ffffa5c46bc8de74f5a4554e74e239c8dee6b9baf388145...    0.769231        1.0   \n",
      "fffff1d38b785cef84adeace64f8f83db3a0c31e8d92eab...    1.000000        1.0   \n",
      "\n",
      "                                                    D_116_mean  D_116_max  \\\n",
      "customer_ID                                                                 \n",
      "000098081fde4fd64bc4d503a5d6f86a0aedc425c96f523...         0.0        0.0   \n",
      "000445609ff2a39d2dd02484899affa5696210a95f6869f...         0.0        0.0   \n",
      "0004837f0c785928a29a6f83f70f4a1c54caec483a773ff...         0.0        0.0   \n",
      "0004ec03ca1ab2adb9aa260c61ba5dce8185e19d3ab7040...         0.0        0.0   \n",
      "00050d84c6d26e26cd2b18c3eed83d3130c270e2361470f...         0.0        0.0   \n",
      "...                                                        ...        ...   \n",
      "fffe2bc02423407e33a607660caeed076d713d8a5ad3232...         0.0        0.0   \n",
      "ffff518bb2075e4816ee3fe9f3b152c57fc0e6f01bf7fdd...         0.0        0.0   \n",
      "ffff9984b999fccb2b6127635ed0736dda94e544e67e026...         0.0        0.0   \n",
      "ffffa5c46bc8de74f5a4554e74e239c8dee6b9baf388145...         0.0        0.0   \n",
      "fffff1d38b785cef84adeace64f8f83db3a0c31e8d92eab...         0.0        0.0   \n",
      "\n",
      "                                                    D_120_mean  D_120_max  \\\n",
      "customer_ID                                                                 \n",
      "000098081fde4fd64bc4d503a5d6f86a0aedc425c96f523...         0.0        0.0   \n",
      "000445609ff2a39d2dd02484899affa5696210a95f6869f...         0.0        0.0   \n",
      "0004837f0c785928a29a6f83f70f4a1c54caec483a773ff...         0.0        0.0   \n",
      "0004ec03ca1ab2adb9aa260c61ba5dce8185e19d3ab7040...         0.0        0.0   \n",
      "00050d84c6d26e26cd2b18c3eed83d3130c270e2361470f...         0.0        0.0   \n",
      "...                                                        ...        ...   \n",
      "fffe2bc02423407e33a607660caeed076d713d8a5ad3232...         1.0        1.0   \n",
      "ffff518bb2075e4816ee3fe9f3b152c57fc0e6f01bf7fdd...         0.0        0.0   \n",
      "ffff9984b999fccb2b6127635ed0736dda94e544e67e026...         0.0        0.0   \n",
      "ffffa5c46bc8de74f5a4554e74e239c8dee6b9baf388145...         0.0        0.0   \n",
      "fffff1d38b785cef84adeace64f8f83db3a0c31e8d92eab...         0.0        0.0   \n",
      "\n",
      "                                                    D_63_CL_response_rate_6  \\\n",
      "customer_ID                                                                   \n",
      "000098081fde4fd64bc4d503a5d6f86a0aedc425c96f523...                      NaN   \n",
      "000445609ff2a39d2dd02484899affa5696210a95f6869f...                      NaN   \n",
      "0004837f0c785928a29a6f83f70f4a1c54caec483a773ff...                      NaN   \n",
      "0004ec03ca1ab2adb9aa260c61ba5dce8185e19d3ab7040...                      NaN   \n",
      "00050d84c6d26e26cd2b18c3eed83d3130c270e2361470f...                      NaN   \n",
      "...                                                                     ...   \n",
      "fffe2bc02423407e33a607660caeed076d713d8a5ad3232...                      NaN   \n",
      "ffff518bb2075e4816ee3fe9f3b152c57fc0e6f01bf7fdd...                      NaN   \n",
      "ffff9984b999fccb2b6127635ed0736dda94e544e67e026...                      NaN   \n",
      "ffffa5c46bc8de74f5a4554e74e239c8dee6b9baf388145...                      NaN   \n",
      "fffff1d38b785cef84adeace64f8f83db3a0c31e8d92eab...                      NaN   \n",
      "\n",
      "                                                    D_63_CL_ever_response_12  \\\n",
      "customer_ID                                                                    \n",
      "000098081fde4fd64bc4d503a5d6f86a0aedc425c96f523...                       NaN   \n",
      "000445609ff2a39d2dd02484899affa5696210a95f6869f...                       NaN   \n",
      "0004837f0c785928a29a6f83f70f4a1c54caec483a773ff...                       NaN   \n",
      "0004ec03ca1ab2adb9aa260c61ba5dce8185e19d3ab7040...                       NaN   \n",
      "00050d84c6d26e26cd2b18c3eed83d3130c270e2361470f...                       NaN   \n",
      "...                                                                      ...   \n",
      "fffe2bc02423407e33a607660caeed076d713d8a5ad3232...                       NaN   \n",
      "ffff518bb2075e4816ee3fe9f3b152c57fc0e6f01bf7fdd...                       NaN   \n",
      "ffff9984b999fccb2b6127635ed0736dda94e544e67e026...                       NaN   \n",
      "ffffa5c46bc8de74f5a4554e74e239c8dee6b9baf388145...                       NaN   \n",
      "fffff1d38b785cef84adeace64f8f83db3a0c31e8d92eab...                       NaN   \n",
      "\n",
      "                                                    ...  \\\n",
      "customer_ID                                         ...   \n",
      "000098081fde4fd64bc4d503a5d6f86a0aedc425c96f523...  ...   \n",
      "000445609ff2a39d2dd02484899affa5696210a95f6869f...  ...   \n",
      "0004837f0c785928a29a6f83f70f4a1c54caec483a773ff...  ...   \n",
      "0004ec03ca1ab2adb9aa260c61ba5dce8185e19d3ab7040...  ...   \n",
      "00050d84c6d26e26cd2b18c3eed83d3130c270e2361470f...  ...   \n",
      "...                                                 ...   \n",
      "fffe2bc02423407e33a607660caeed076d713d8a5ad3232...  ...   \n",
      "ffff518bb2075e4816ee3fe9f3b152c57fc0e6f01bf7fdd...  ...   \n",
      "ffff9984b999fccb2b6127635ed0736dda94e544e67e026...  ...   \n",
      "ffffa5c46bc8de74f5a4554e74e239c8dee6b9baf388145...  ...   \n",
      "fffff1d38b785cef84adeace64f8f83db3a0c31e8d92eab...  ...   \n",
      "\n",
      "                                                    D_120_0.0_response_rate_6  \\\n",
      "customer_ID                                                                     \n",
      "000098081fde4fd64bc4d503a5d6f86a0aedc425c96f523...                        NaN   \n",
      "000445609ff2a39d2dd02484899affa5696210a95f6869f...                        NaN   \n",
      "0004837f0c785928a29a6f83f70f4a1c54caec483a773ff...                        NaN   \n",
      "0004ec03ca1ab2adb9aa260c61ba5dce8185e19d3ab7040...                        NaN   \n",
      "00050d84c6d26e26cd2b18c3eed83d3130c270e2361470f...                        NaN   \n",
      "...                                                                       ...   \n",
      "fffe2bc02423407e33a607660caeed076d713d8a5ad3232...                        NaN   \n",
      "ffff518bb2075e4816ee3fe9f3b152c57fc0e6f01bf7fdd...                        NaN   \n",
      "ffff9984b999fccb2b6127635ed0736dda94e544e67e026...                        NaN   \n",
      "ffffa5c46bc8de74f5a4554e74e239c8dee6b9baf388145...                        NaN   \n",
      "fffff1d38b785cef84adeace64f8f83db3a0c31e8d92eab...                        NaN   \n",
      "\n",
      "                                                    D_120_0.0_ever_response_12  \\\n",
      "customer_ID                                                                      \n",
      "000098081fde4fd64bc4d503a5d6f86a0aedc425c96f523...                         NaN   \n",
      "000445609ff2a39d2dd02484899affa5696210a95f6869f...                         NaN   \n",
      "0004837f0c785928a29a6f83f70f4a1c54caec483a773ff...                         NaN   \n",
      "0004ec03ca1ab2adb9aa260c61ba5dce8185e19d3ab7040...                         NaN   \n",
      "00050d84c6d26e26cd2b18c3eed83d3130c270e2361470f...                         NaN   \n",
      "...                                                                        ...   \n",
      "fffe2bc02423407e33a607660caeed076d713d8a5ad3232...                         NaN   \n",
      "ffff518bb2075e4816ee3fe9f3b152c57fc0e6f01bf7fdd...                         NaN   \n",
      "ffff9984b999fccb2b6127635ed0736dda94e544e67e026...                         NaN   \n",
      "ffffa5c46bc8de74f5a4554e74e239c8dee6b9baf388145...                         NaN   \n",
      "fffff1d38b785cef84adeace64f8f83db3a0c31e8d92eab...                         NaN   \n",
      "\n",
      "                                                    D_120_1.0_response_rate_6  \\\n",
      "customer_ID                                                                     \n",
      "000098081fde4fd64bc4d503a5d6f86a0aedc425c96f523...                        NaN   \n",
      "000445609ff2a39d2dd02484899affa5696210a95f6869f...                        NaN   \n",
      "0004837f0c785928a29a6f83f70f4a1c54caec483a773ff...                        NaN   \n",
      "0004ec03ca1ab2adb9aa260c61ba5dce8185e19d3ab7040...                        NaN   \n",
      "00050d84c6d26e26cd2b18c3eed83d3130c270e2361470f...                        NaN   \n",
      "...                                                                       ...   \n",
      "fffe2bc02423407e33a607660caeed076d713d8a5ad3232...                        NaN   \n",
      "ffff518bb2075e4816ee3fe9f3b152c57fc0e6f01bf7fdd...                        NaN   \n",
      "ffff9984b999fccb2b6127635ed0736dda94e544e67e026...                        NaN   \n",
      "ffffa5c46bc8de74f5a4554e74e239c8dee6b9baf388145...                        NaN   \n",
      "fffff1d38b785cef84adeace64f8f83db3a0c31e8d92eab...                        NaN   \n",
      "\n",
      "                                                    D_120_1.0_ever_response_12  \\\n",
      "customer_ID                                                                      \n",
      "000098081fde4fd64bc4d503a5d6f86a0aedc425c96f523...                         NaN   \n",
      "000445609ff2a39d2dd02484899affa5696210a95f6869f...                         NaN   \n",
      "0004837f0c785928a29a6f83f70f4a1c54caec483a773ff...                         NaN   \n",
      "0004ec03ca1ab2adb9aa260c61ba5dce8185e19d3ab7040...                         NaN   \n",
      "00050d84c6d26e26cd2b18c3eed83d3130c270e2361470f...                         NaN   \n",
      "...                                                                        ...   \n",
      "fffe2bc02423407e33a607660caeed076d713d8a5ad3232...                         NaN   \n",
      "ffff518bb2075e4816ee3fe9f3b152c57fc0e6f01bf7fdd...                         NaN   \n",
      "ffff9984b999fccb2b6127635ed0736dda94e544e67e026...                         NaN   \n",
      "ffffa5c46bc8de74f5a4554e74e239c8dee6b9baf388145...                         NaN   \n",
      "fffff1d38b785cef84adeace64f8f83db3a0c31e8d92eab...                         NaN   \n",
      "\n",
      "                                                    D_126_-1.0_response_rate_6  \\\n",
      "customer_ID                                                                      \n",
      "000098081fde4fd64bc4d503a5d6f86a0aedc425c96f523...                         NaN   \n",
      "000445609ff2a39d2dd02484899affa5696210a95f6869f...                         NaN   \n",
      "0004837f0c785928a29a6f83f70f4a1c54caec483a773ff...                         NaN   \n",
      "0004ec03ca1ab2adb9aa260c61ba5dce8185e19d3ab7040...                         NaN   \n",
      "00050d84c6d26e26cd2b18c3eed83d3130c270e2361470f...                         NaN   \n",
      "...                                                                        ...   \n",
      "fffe2bc02423407e33a607660caeed076d713d8a5ad3232...                         NaN   \n",
      "ffff518bb2075e4816ee3fe9f3b152c57fc0e6f01bf7fdd...                         NaN   \n",
      "ffff9984b999fccb2b6127635ed0736dda94e544e67e026...                         NaN   \n",
      "ffffa5c46bc8de74f5a4554e74e239c8dee6b9baf388145...                         NaN   \n",
      "fffff1d38b785cef84adeace64f8f83db3a0c31e8d92eab...                         NaN   \n",
      "\n",
      "                                                    D_126_-1.0_ever_response_12  \\\n",
      "customer_ID                                                                       \n",
      "000098081fde4fd64bc4d503a5d6f86a0aedc425c96f523...                          NaN   \n",
      "000445609ff2a39d2dd02484899affa5696210a95f6869f...                          NaN   \n",
      "0004837f0c785928a29a6f83f70f4a1c54caec483a773ff...                          NaN   \n",
      "0004ec03ca1ab2adb9aa260c61ba5dce8185e19d3ab7040...                          NaN   \n",
      "00050d84c6d26e26cd2b18c3eed83d3130c270e2361470f...                          NaN   \n",
      "...                                                                         ...   \n",
      "fffe2bc02423407e33a607660caeed076d713d8a5ad3232...                          NaN   \n",
      "ffff518bb2075e4816ee3fe9f3b152c57fc0e6f01bf7fdd...                          NaN   \n",
      "ffff9984b999fccb2b6127635ed0736dda94e544e67e026...                          NaN   \n",
      "ffffa5c46bc8de74f5a4554e74e239c8dee6b9baf388145...                          NaN   \n",
      "fffff1d38b785cef84adeace64f8f83db3a0c31e8d92eab...                          NaN   \n",
      "\n",
      "                                                    D_126_0.0_response_rate_6  \\\n",
      "customer_ID                                                                     \n",
      "000098081fde4fd64bc4d503a5d6f86a0aedc425c96f523...                        NaN   \n",
      "000445609ff2a39d2dd02484899affa5696210a95f6869f...                        NaN   \n",
      "0004837f0c785928a29a6f83f70f4a1c54caec483a773ff...                        NaN   \n",
      "0004ec03ca1ab2adb9aa260c61ba5dce8185e19d3ab7040...                        NaN   \n",
      "00050d84c6d26e26cd2b18c3eed83d3130c270e2361470f...                        NaN   \n",
      "...                                                                       ...   \n",
      "fffe2bc02423407e33a607660caeed076d713d8a5ad3232...                        NaN   \n",
      "ffff518bb2075e4816ee3fe9f3b152c57fc0e6f01bf7fdd...                        NaN   \n",
      "ffff9984b999fccb2b6127635ed0736dda94e544e67e026...                        NaN   \n",
      "ffffa5c46bc8de74f5a4554e74e239c8dee6b9baf388145...                        NaN   \n",
      "fffff1d38b785cef84adeace64f8f83db3a0c31e8d92eab...                        NaN   \n",
      "\n",
      "                                                    D_126_0.0_ever_response_12  \\\n",
      "customer_ID                                                                      \n",
      "000098081fde4fd64bc4d503a5d6f86a0aedc425c96f523...                         NaN   \n",
      "000445609ff2a39d2dd02484899affa5696210a95f6869f...                         NaN   \n",
      "0004837f0c785928a29a6f83f70f4a1c54caec483a773ff...                         NaN   \n",
      "0004ec03ca1ab2adb9aa260c61ba5dce8185e19d3ab7040...                         NaN   \n",
      "00050d84c6d26e26cd2b18c3eed83d3130c270e2361470f...                         NaN   \n",
      "...                                                                        ...   \n",
      "fffe2bc02423407e33a607660caeed076d713d8a5ad3232...                         NaN   \n",
      "ffff518bb2075e4816ee3fe9f3b152c57fc0e6f01bf7fdd...                         NaN   \n",
      "ffff9984b999fccb2b6127635ed0736dda94e544e67e026...                         NaN   \n",
      "ffffa5c46bc8de74f5a4554e74e239c8dee6b9baf388145...                         NaN   \n",
      "fffff1d38b785cef84adeace64f8f83db3a0c31e8d92eab...                         NaN   \n",
      "\n",
      "                                                    D_126_1.0_response_rate_6  \\\n",
      "customer_ID                                                                     \n",
      "000098081fde4fd64bc4d503a5d6f86a0aedc425c96f523...                        NaN   \n",
      "000445609ff2a39d2dd02484899affa5696210a95f6869f...                        NaN   \n",
      "0004837f0c785928a29a6f83f70f4a1c54caec483a773ff...                        NaN   \n",
      "0004ec03ca1ab2adb9aa260c61ba5dce8185e19d3ab7040...                        NaN   \n",
      "00050d84c6d26e26cd2b18c3eed83d3130c270e2361470f...                        NaN   \n",
      "...                                                                       ...   \n",
      "fffe2bc02423407e33a607660caeed076d713d8a5ad3232...                        NaN   \n",
      "ffff518bb2075e4816ee3fe9f3b152c57fc0e6f01bf7fdd...                        NaN   \n",
      "ffff9984b999fccb2b6127635ed0736dda94e544e67e026...                        NaN   \n",
      "ffffa5c46bc8de74f5a4554e74e239c8dee6b9baf388145...                        NaN   \n",
      "fffff1d38b785cef84adeace64f8f83db3a0c31e8d92eab...                        NaN   \n",
      "\n",
      "                                                    D_126_1.0_ever_response_12  \n",
      "customer_ID                                                                     \n",
      "000098081fde4fd64bc4d503a5d6f86a0aedc425c96f523...                         NaN  \n",
      "000445609ff2a39d2dd02484899affa5696210a95f6869f...                         NaN  \n",
      "0004837f0c785928a29a6f83f70f4a1c54caec483a773ff...                         NaN  \n",
      "0004ec03ca1ab2adb9aa260c61ba5dce8185e19d3ab7040...                         NaN  \n",
      "00050d84c6d26e26cd2b18c3eed83d3130c270e2361470f...                         NaN  \n",
      "...                                                                        ...  \n",
      "fffe2bc02423407e33a607660caeed076d713d8a5ad3232...                         NaN  \n",
      "ffff518bb2075e4816ee3fe9f3b152c57fc0e6f01bf7fdd...                         NaN  \n",
      "ffff9984b999fccb2b6127635ed0736dda94e544e67e026...                         NaN  \n",
      "ffffa5c46bc8de74f5a4554e74e239c8dee6b9baf388145...                         NaN  \n",
      "fffff1d38b785cef84adeace64f8f83db3a0c31e8d92eab...                         NaN  \n",
      "\n",
      "[91782 rows x 98 columns]\n",
      "(91782, 98)\n"
     ]
    }
   ],
   "source": [
    "# Iterate over each categorical feature\n",
    "for feature in cat_col:\n",
    "    # Check if the feature is binary (0/1)\n",
    "    if development_sample[feature].nunique() == 2:\n",
    "        # Calculate the response rate (percentage of times the feature equals 1) in the last 6 months\n",
    "        response_rate_6 = development_sample[feature].rolling(window=window_sizes['response_rate_6'], min_periods=1).mean() * 100\n",
    "        # Check if the feature has ever been responded (contains at least one 1) in the last 12 months\n",
    "        ever_response_12 = development_sample[feature].rolling(window=window_sizes['ever_response_12'], min_periods=1).max()\n",
    "        # Add the aggregated features to the DataFrame\n",
    "        df_cat_agg[f\"{feature}_response_rate_6\"] = response_rate_6\n",
    "        df_cat_agg[f\"{feature}_ever_response_12\"] = ever_response_12\n",
    "print(df_cat_agg)\n",
    "print(df_cat_agg.shape)"
   ]
  },
  {
   "cell_type": "code",
   "execution_count": 71,
   "id": "55e6adbd",
   "metadata": {},
   "outputs": [
    {
     "name": "stdout",
     "output_type": "stream",
     "text": [
      "(1107069, 1208)\n"
     ]
    }
   ],
   "source": [
    "development_sample = pd.merge(development_sample, df_cat_agg, on='customer_ID')\n",
    "print(development_sample.shape)"
   ]
  },
  {
   "cell_type": "code",
   "execution_count": 72,
   "id": "a5cb5c5e",
   "metadata": {},
   "outputs": [],
   "source": [
    "# Save the DataFrame to CSV\n",
    "development_sample.to_csv(\"final_data_for_project.csv\", index=False)"
   ]
  },
  {
   "cell_type": "code",
   "execution_count": 73,
   "id": "308fe5f2",
   "metadata": {},
   "outputs": [],
   "source": [
    "chunksize = 10 ** 5\n",
    "\n",
    "dev_sample = pd.DataFrame()\n",
    "for chunk in pd.read_csv(\"/Users/maverick/Downloads/BUAN 6341/final_data_for_project.csv\", chunksize=chunksize):\n",
    "    dev_sample = pd.concat([dev_sample, chunk])"
   ]
  },
  {
   "cell_type": "code",
   "execution_count": 76,
   "id": "e5455fa1",
   "metadata": {
    "collapsed": true
   },
   "outputs": [
    {
     "name": "stdout",
     "output_type": "stream",
     "text": [
      "\n",
      "Data types:\n",
      "customer_ID                            object\n",
      "S_2                            datetime64[ns]\n",
      "P_2                                   float64\n",
      "D_39                                  float64\n",
      "B_1                                   float64\n",
      "                                    ...      \n",
      "D_126_-1.0_ever_response_12           float64\n",
      "D_126_0.0_response_rate_6             float64\n",
      "D_126_0.0_ever_response_12            float64\n",
      "D_126_1.0_response_rate_6             float64\n",
      "D_126_1.0_ever_response_12            float64\n",
      "Length: 1208, dtype: object\n"
     ]
    }
   ],
   "source": [
    "dev_sample['S_2'] = pd.to_datetime(dev_sample['S_2'])\n",
    "\n",
    "# Data types of features\n",
    "print(\"\\nData types:\")\n",
    "print(dev_sample.dtypes)"
   ]
  },
  {
   "cell_type": "code",
   "execution_count": 79,
   "id": "9880c80f",
   "metadata": {},
   "outputs": [],
   "source": [
    "# Step 6: Train/Test Split\n",
    "from sklearn.model_selection import train_test_split\n",
    "\n",
    "X = dev_sample.drop(['target','S_2','customer_ID'], axis=1)\n",
    "Y = dev_sample['target']\n",
    "\n",
    "# Splitting into 70% training and 30% testing\n",
    "X_train, X_test_combined, Y_train, y_test_combined = train_test_split(X, Y, test_size=0.3, random_state=42)\n",
    "\n",
    "# Splitting the combined test set into two equal parts\n",
    "X_test1, X_test2, Y_test1, Y_test2 = train_test_split(X_test_combined, y_test_combined, test_size=0.5, random_state=42)"
   ]
  },
  {
   "cell_type": "code",
   "execution_count": 81,
   "id": "60bbb062",
   "metadata": {
    "collapsed": true
   },
   "outputs": [
    {
     "name": "stdout",
     "output_type": "stream",
     "text": [
      "(774948, 1205)\n",
      "(774948,)\n",
      "(166060, 1205)\n",
      "(166060,)\n",
      "(166061, 1205)\n",
      "(166061,)\n"
     ]
    }
   ],
   "source": [
    "print (X_train.shape)\n",
    "print (Y_train.shape)\n",
    "print (X_test1.shape)\n",
    "print (Y_test1.shape)\n",
    "print (X_test2.shape)\n",
    "print (Y_test2.shape)"
   ]
  },
  {
   "cell_type": "code",
   "execution_count": 82,
   "id": "d7f1f8ff",
   "metadata": {
    "collapsed": true
   },
   "outputs": [
    {
     "data": {
      "text/html": [
       "<style>#sk-container-id-1 {color: black;}#sk-container-id-1 pre{padding: 0;}#sk-container-id-1 div.sk-toggleable {background-color: white;}#sk-container-id-1 label.sk-toggleable__label {cursor: pointer;display: block;width: 100%;margin-bottom: 0;padding: 0.3em;box-sizing: border-box;text-align: center;}#sk-container-id-1 label.sk-toggleable__label-arrow:before {content: \"▸\";float: left;margin-right: 0.25em;color: #696969;}#sk-container-id-1 label.sk-toggleable__label-arrow:hover:before {color: black;}#sk-container-id-1 div.sk-estimator:hover label.sk-toggleable__label-arrow:before {color: black;}#sk-container-id-1 div.sk-toggleable__content {max-height: 0;max-width: 0;overflow: hidden;text-align: left;background-color: #f0f8ff;}#sk-container-id-1 div.sk-toggleable__content pre {margin: 0.2em;color: black;border-radius: 0.25em;background-color: #f0f8ff;}#sk-container-id-1 input.sk-toggleable__control:checked~div.sk-toggleable__content {max-height: 200px;max-width: 100%;overflow: auto;}#sk-container-id-1 input.sk-toggleable__control:checked~label.sk-toggleable__label-arrow:before {content: \"▾\";}#sk-container-id-1 div.sk-estimator input.sk-toggleable__control:checked~label.sk-toggleable__label {background-color: #d4ebff;}#sk-container-id-1 div.sk-label input.sk-toggleable__control:checked~label.sk-toggleable__label {background-color: #d4ebff;}#sk-container-id-1 input.sk-hidden--visually {border: 0;clip: rect(1px 1px 1px 1px);clip: rect(1px, 1px, 1px, 1px);height: 1px;margin: -1px;overflow: hidden;padding: 0;position: absolute;width: 1px;}#sk-container-id-1 div.sk-estimator {font-family: monospace;background-color: #f0f8ff;border: 1px dotted black;border-radius: 0.25em;box-sizing: border-box;margin-bottom: 0.5em;}#sk-container-id-1 div.sk-estimator:hover {background-color: #d4ebff;}#sk-container-id-1 div.sk-parallel-item::after {content: \"\";width: 100%;border-bottom: 1px solid gray;flex-grow: 1;}#sk-container-id-1 div.sk-label:hover label.sk-toggleable__label {background-color: #d4ebff;}#sk-container-id-1 div.sk-serial::before {content: \"\";position: absolute;border-left: 1px solid gray;box-sizing: border-box;top: 0;bottom: 0;left: 50%;z-index: 0;}#sk-container-id-1 div.sk-serial {display: flex;flex-direction: column;align-items: center;background-color: white;padding-right: 0.2em;padding-left: 0.2em;position: relative;}#sk-container-id-1 div.sk-item {position: relative;z-index: 1;}#sk-container-id-1 div.sk-parallel {display: flex;align-items: stretch;justify-content: center;background-color: white;position: relative;}#sk-container-id-1 div.sk-item::before, #sk-container-id-1 div.sk-parallel-item::before {content: \"\";position: absolute;border-left: 1px solid gray;box-sizing: border-box;top: 0;bottom: 0;left: 50%;z-index: -1;}#sk-container-id-1 div.sk-parallel-item {display: flex;flex-direction: column;z-index: 1;position: relative;background-color: white;}#sk-container-id-1 div.sk-parallel-item:first-child::after {align-self: flex-end;width: 50%;}#sk-container-id-1 div.sk-parallel-item:last-child::after {align-self: flex-start;width: 50%;}#sk-container-id-1 div.sk-parallel-item:only-child::after {width: 0;}#sk-container-id-1 div.sk-dashed-wrapped {border: 1px dashed gray;margin: 0 0.4em 0.5em 0.4em;box-sizing: border-box;padding-bottom: 0.4em;background-color: white;}#sk-container-id-1 div.sk-label label {font-family: monospace;font-weight: bold;display: inline-block;line-height: 1.2em;}#sk-container-id-1 div.sk-label-container {text-align: center;}#sk-container-id-1 div.sk-container {/* jupyter's `normalize.less` sets `[hidden] { display: none; }` but bootstrap.min.css set `[hidden] { display: none !important; }` so we also need the `!important` here to be able to override the default hidden behavior on the sphinx rendered scikit-learn.org. See: https://github.com/scikit-learn/scikit-learn/issues/21755 */display: inline-block !important;position: relative;}#sk-container-id-1 div.sk-text-repr-fallback {display: none;}</style><div id=\"sk-container-id-1\" class=\"sk-top-container\"><div class=\"sk-text-repr-fallback\"><pre>XGBClassifier(base_score=None, booster=None, callbacks=None,\n",
       "              colsample_bylevel=None, colsample_bynode=None,\n",
       "              colsample_bytree=None, device=None, early_stopping_rounds=None,\n",
       "              enable_categorical=False, eval_metric=None, feature_types=None,\n",
       "              gamma=None, grow_policy=None, importance_type=None,\n",
       "              interaction_constraints=None, learning_rate=None, max_bin=None,\n",
       "              max_cat_threshold=None, max_cat_to_onehot=None,\n",
       "              max_delta_step=None, max_depth=None, max_leaves=None,\n",
       "              min_child_weight=None, missing=nan, monotone_constraints=None,\n",
       "              multi_strategy=None, n_estimators=None, n_jobs=None,\n",
       "              num_parallel_tree=None, random_state=None, ...)</pre><b>In a Jupyter environment, please rerun this cell to show the HTML representation or trust the notebook. <br />On GitHub, the HTML representation is unable to render, please try loading this page with nbviewer.org.</b></div><div class=\"sk-container\" hidden><div class=\"sk-item\"><div class=\"sk-estimator sk-toggleable\"><input class=\"sk-toggleable__control sk-hidden--visually\" id=\"sk-estimator-id-1\" type=\"checkbox\" checked><label for=\"sk-estimator-id-1\" class=\"sk-toggleable__label sk-toggleable__label-arrow\">XGBClassifier</label><div class=\"sk-toggleable__content\"><pre>XGBClassifier(base_score=None, booster=None, callbacks=None,\n",
       "              colsample_bylevel=None, colsample_bynode=None,\n",
       "              colsample_bytree=None, device=None, early_stopping_rounds=None,\n",
       "              enable_categorical=False, eval_metric=None, feature_types=None,\n",
       "              gamma=None, grow_policy=None, importance_type=None,\n",
       "              interaction_constraints=None, learning_rate=None, max_bin=None,\n",
       "              max_cat_threshold=None, max_cat_to_onehot=None,\n",
       "              max_delta_step=None, max_depth=None, max_leaves=None,\n",
       "              min_child_weight=None, missing=nan, monotone_constraints=None,\n",
       "              multi_strategy=None, n_estimators=None, n_jobs=None,\n",
       "              num_parallel_tree=None, random_state=None, ...)</pre></div></div></div></div></div>"
      ],
      "text/plain": [
       "XGBClassifier(base_score=None, booster=None, callbacks=None,\n",
       "              colsample_bylevel=None, colsample_bynode=None,\n",
       "              colsample_bytree=None, device=None, early_stopping_rounds=None,\n",
       "              enable_categorical=False, eval_metric=None, feature_types=None,\n",
       "              gamma=None, grow_policy=None, importance_type=None,\n",
       "              interaction_constraints=None, learning_rate=None, max_bin=None,\n",
       "              max_cat_threshold=None, max_cat_to_onehot=None,\n",
       "              max_delta_step=None, max_depth=None, max_leaves=None,\n",
       "              min_child_weight=None, missing=nan, monotone_constraints=None,\n",
       "              multi_strategy=None, n_estimators=None, n_jobs=None,\n",
       "              num_parallel_tree=None, random_state=None, ...)"
      ]
     },
     "execution_count": 82,
     "metadata": {},
     "output_type": "execute_result"
    }
   ],
   "source": [
    "# Step 7-10: Feature Selection\n",
    "from xgboost import XGBClassifier\n",
    "\n",
    "\n",
    "# for this step, we don't play with parameters of RF, and just use the\n",
    "model_for_feature_reduction = XGBClassifier()\n",
    "model_for_feature_reduction.fit(X_train, Y_train)"
   ]
  },
  {
   "cell_type": "code",
   "execution_count": 83,
   "id": "dfad9196",
   "metadata": {},
   "outputs": [],
   "source": [
    "Feature_Importance = pd.DataFrame(columns = [\"Feature\", \"Feature_Importance\"])\n",
    "Feature_Importance.Feature = X_train.columns\n",
    "Feature_Importance.Feature_Importance = model_for_feature_reduction.feature_importances_\n",
    "Feature_Importance.sort_values(by=[\"Feature_Importance\"], inplace=True, ascending=False)\n",
    "Feature_Importance\n",
    "Feature_Importance.to_csv(\"Feature_Importance.csv\", index=False)"
   ]
  },
  {
   "cell_type": "code",
   "execution_count": 84,
   "id": "c6ae8cec",
   "metadata": {
    "collapsed": true
   },
   "outputs": [
    {
     "data": {
      "text/html": [
       "<div>\n",
       "<style scoped>\n",
       "    .dataframe tbody tr th:only-of-type {\n",
       "        vertical-align: middle;\n",
       "    }\n",
       "\n",
       "    .dataframe tbody tr th {\n",
       "        vertical-align: top;\n",
       "    }\n",
       "\n",
       "    .dataframe thead th {\n",
       "        text-align: right;\n",
       "    }\n",
       "</style>\n",
       "<table border=\"1\" class=\"dataframe\">\n",
       "  <thead>\n",
       "    <tr style=\"text-align: right;\">\n",
       "      <th></th>\n",
       "      <th>Feature</th>\n",
       "      <th>Feature_Importance</th>\n",
       "    </tr>\n",
       "  </thead>\n",
       "  <tbody>\n",
       "    <tr>\n",
       "      <th>226</th>\n",
       "      <td>P_2_last</td>\n",
       "      <td>0.140401</td>\n",
       "    </tr>\n",
       "    <tr>\n",
       "      <th>236</th>\n",
       "      <td>B_1_last</td>\n",
       "      <td>0.043715</td>\n",
       "    </tr>\n",
       "    <tr>\n",
       "      <th>241</th>\n",
       "      <td>B_2_last</td>\n",
       "      <td>0.011351</td>\n",
       "    </tr>\n",
       "    <tr>\n",
       "      <th>275</th>\n",
       "      <td>D_44_max</td>\n",
       "      <td>0.010522</td>\n",
       "    </tr>\n",
       "    <tr>\n",
       "      <th>246</th>\n",
       "      <td>R_1_last</td>\n",
       "      <td>0.009361</td>\n",
       "    </tr>\n",
       "    <tr>\n",
       "      <th>...</th>\n",
       "      <td>...</td>\n",
       "      <td>...</td>\n",
       "    </tr>\n",
       "    <tr>\n",
       "      <th>139</th>\n",
       "      <td>D_109</td>\n",
       "      <td>0.000000</td>\n",
       "    </tr>\n",
       "    <tr>\n",
       "      <th>140</th>\n",
       "      <td>D_110</td>\n",
       "      <td>0.000000</td>\n",
       "    </tr>\n",
       "    <tr>\n",
       "      <th>141</th>\n",
       "      <td>D_111</td>\n",
       "      <td>0.000000</td>\n",
       "    </tr>\n",
       "    <tr>\n",
       "      <th>142</th>\n",
       "      <td>B_39</td>\n",
       "      <td>0.000000</td>\n",
       "    </tr>\n",
       "    <tr>\n",
       "      <th>1204</th>\n",
       "      <td>D_126_1.0_ever_response_12</td>\n",
       "      <td>0.000000</td>\n",
       "    </tr>\n",
       "  </tbody>\n",
       "</table>\n",
       "<p>1205 rows × 2 columns</p>\n",
       "</div>"
      ],
      "text/plain": [
       "                         Feature  Feature_Importance\n",
       "226                     P_2_last            0.140401\n",
       "236                     B_1_last            0.043715\n",
       "241                     B_2_last            0.011351\n",
       "275                     D_44_max            0.010522\n",
       "246                     R_1_last            0.009361\n",
       "...                          ...                 ...\n",
       "139                        D_109            0.000000\n",
       "140                        D_110            0.000000\n",
       "141                        D_111            0.000000\n",
       "142                         B_39            0.000000\n",
       "1204  D_126_1.0_ever_response_12            0.000000\n",
       "\n",
       "[1205 rows x 2 columns]"
      ]
     },
     "execution_count": 84,
     "metadata": {},
     "output_type": "execute_result"
    }
   ],
   "source": [
    "Feature_Importance"
   ]
  },
  {
   "cell_type": "code",
   "execution_count": 85,
   "id": "7b2e9a15",
   "metadata": {
    "collapsed": true
   },
   "outputs": [
    {
     "data": {
      "text/html": [
       "<style>#sk-container-id-2 {color: black;}#sk-container-id-2 pre{padding: 0;}#sk-container-id-2 div.sk-toggleable {background-color: white;}#sk-container-id-2 label.sk-toggleable__label {cursor: pointer;display: block;width: 100%;margin-bottom: 0;padding: 0.3em;box-sizing: border-box;text-align: center;}#sk-container-id-2 label.sk-toggleable__label-arrow:before {content: \"▸\";float: left;margin-right: 0.25em;color: #696969;}#sk-container-id-2 label.sk-toggleable__label-arrow:hover:before {color: black;}#sk-container-id-2 div.sk-estimator:hover label.sk-toggleable__label-arrow:before {color: black;}#sk-container-id-2 div.sk-toggleable__content {max-height: 0;max-width: 0;overflow: hidden;text-align: left;background-color: #f0f8ff;}#sk-container-id-2 div.sk-toggleable__content pre {margin: 0.2em;color: black;border-radius: 0.25em;background-color: #f0f8ff;}#sk-container-id-2 input.sk-toggleable__control:checked~div.sk-toggleable__content {max-height: 200px;max-width: 100%;overflow: auto;}#sk-container-id-2 input.sk-toggleable__control:checked~label.sk-toggleable__label-arrow:before {content: \"▾\";}#sk-container-id-2 div.sk-estimator input.sk-toggleable__control:checked~label.sk-toggleable__label {background-color: #d4ebff;}#sk-container-id-2 div.sk-label input.sk-toggleable__control:checked~label.sk-toggleable__label {background-color: #d4ebff;}#sk-container-id-2 input.sk-hidden--visually {border: 0;clip: rect(1px 1px 1px 1px);clip: rect(1px, 1px, 1px, 1px);height: 1px;margin: -1px;overflow: hidden;padding: 0;position: absolute;width: 1px;}#sk-container-id-2 div.sk-estimator {font-family: monospace;background-color: #f0f8ff;border: 1px dotted black;border-radius: 0.25em;box-sizing: border-box;margin-bottom: 0.5em;}#sk-container-id-2 div.sk-estimator:hover {background-color: #d4ebff;}#sk-container-id-2 div.sk-parallel-item::after {content: \"\";width: 100%;border-bottom: 1px solid gray;flex-grow: 1;}#sk-container-id-2 div.sk-label:hover label.sk-toggleable__label {background-color: #d4ebff;}#sk-container-id-2 div.sk-serial::before {content: \"\";position: absolute;border-left: 1px solid gray;box-sizing: border-box;top: 0;bottom: 0;left: 50%;z-index: 0;}#sk-container-id-2 div.sk-serial {display: flex;flex-direction: column;align-items: center;background-color: white;padding-right: 0.2em;padding-left: 0.2em;position: relative;}#sk-container-id-2 div.sk-item {position: relative;z-index: 1;}#sk-container-id-2 div.sk-parallel {display: flex;align-items: stretch;justify-content: center;background-color: white;position: relative;}#sk-container-id-2 div.sk-item::before, #sk-container-id-2 div.sk-parallel-item::before {content: \"\";position: absolute;border-left: 1px solid gray;box-sizing: border-box;top: 0;bottom: 0;left: 50%;z-index: -1;}#sk-container-id-2 div.sk-parallel-item {display: flex;flex-direction: column;z-index: 1;position: relative;background-color: white;}#sk-container-id-2 div.sk-parallel-item:first-child::after {align-self: flex-end;width: 50%;}#sk-container-id-2 div.sk-parallel-item:last-child::after {align-self: flex-start;width: 50%;}#sk-container-id-2 div.sk-parallel-item:only-child::after {width: 0;}#sk-container-id-2 div.sk-dashed-wrapped {border: 1px dashed gray;margin: 0 0.4em 0.5em 0.4em;box-sizing: border-box;padding-bottom: 0.4em;background-color: white;}#sk-container-id-2 div.sk-label label {font-family: monospace;font-weight: bold;display: inline-block;line-height: 1.2em;}#sk-container-id-2 div.sk-label-container {text-align: center;}#sk-container-id-2 div.sk-container {/* jupyter's `normalize.less` sets `[hidden] { display: none; }` but bootstrap.min.css set `[hidden] { display: none !important; }` so we also need the `!important` here to be able to override the default hidden behavior on the sphinx rendered scikit-learn.org. See: https://github.com/scikit-learn/scikit-learn/issues/21755 */display: inline-block !important;position: relative;}#sk-container-id-2 div.sk-text-repr-fallback {display: none;}</style><div id=\"sk-container-id-2\" class=\"sk-top-container\"><div class=\"sk-text-repr-fallback\"><pre>XGBClassifier(base_score=None, booster=None, callbacks=None,\n",
       "              colsample_bylevel=None, colsample_bynode=None,\n",
       "              colsample_bytree=0.5, device=None, early_stopping_rounds=None,\n",
       "              enable_categorical=False, eval_metric=None, feature_types=None,\n",
       "              gamma=None, grow_policy=None, importance_type=None,\n",
       "              interaction_constraints=None, learning_rate=0.5, max_bin=None,\n",
       "              max_cat_threshold=None, max_cat_to_onehot=None,\n",
       "              max_delta_step=None, max_depth=4, max_leaves=None,\n",
       "              min_child_weight=None, missing=nan, monotone_constraints=None,\n",
       "              multi_strategy=None, n_estimators=300, n_jobs=None,\n",
       "              num_parallel_tree=None, random_state=42, ...)</pre><b>In a Jupyter environment, please rerun this cell to show the HTML representation or trust the notebook. <br />On GitHub, the HTML representation is unable to render, please try loading this page with nbviewer.org.</b></div><div class=\"sk-container\" hidden><div class=\"sk-item\"><div class=\"sk-estimator sk-toggleable\"><input class=\"sk-toggleable__control sk-hidden--visually\" id=\"sk-estimator-id-2\" type=\"checkbox\" checked><label for=\"sk-estimator-id-2\" class=\"sk-toggleable__label sk-toggleable__label-arrow\">XGBClassifier</label><div class=\"sk-toggleable__content\"><pre>XGBClassifier(base_score=None, booster=None, callbacks=None,\n",
       "              colsample_bylevel=None, colsample_bynode=None,\n",
       "              colsample_bytree=0.5, device=None, early_stopping_rounds=None,\n",
       "              enable_categorical=False, eval_metric=None, feature_types=None,\n",
       "              gamma=None, grow_policy=None, importance_type=None,\n",
       "              interaction_constraints=None, learning_rate=0.5, max_bin=None,\n",
       "              max_cat_threshold=None, max_cat_to_onehot=None,\n",
       "              max_delta_step=None, max_depth=4, max_leaves=None,\n",
       "              min_child_weight=None, missing=nan, monotone_constraints=None,\n",
       "              multi_strategy=None, n_estimators=300, n_jobs=None,\n",
       "              num_parallel_tree=None, random_state=42, ...)</pre></div></div></div></div></div>"
      ],
      "text/plain": [
       "XGBClassifier(base_score=None, booster=None, callbacks=None,\n",
       "              colsample_bylevel=None, colsample_bynode=None,\n",
       "              colsample_bytree=0.5, device=None, early_stopping_rounds=None,\n",
       "              enable_categorical=False, eval_metric=None, feature_types=None,\n",
       "              gamma=None, grow_policy=None, importance_type=None,\n",
       "              interaction_constraints=None, learning_rate=0.5, max_bin=None,\n",
       "              max_cat_threshold=None, max_cat_to_onehot=None,\n",
       "              max_delta_step=None, max_depth=4, max_leaves=None,\n",
       "              min_child_weight=None, missing=nan, monotone_constraints=None,\n",
       "              multi_strategy=None, n_estimators=300, n_jobs=None,\n",
       "              num_parallel_tree=None, random_state=42, ...)"
      ]
     },
     "execution_count": 85,
     "metadata": {},
     "output_type": "execute_result"
    }
   ],
   "source": [
    "params = {\n",
    "    'n_estimators': 300,\n",
    "    'learning_rate': 0.5,\n",
    "    'max_depth': 4,\n",
    "    'subsample': 0.5,\n",
    "    'colsample_bytree': 0.5,\n",
    "    'scale_pos_weight': 5,\n",
    "    'random_state': 42  # Set random state for reproducibility\n",
    "}\n",
    "\n",
    "# Initialize XGBoost model\n",
    "model_for_feature_reduction_2 = xgb.XGBClassifier(**params)\n",
    "# Train the model\n",
    "model_for_feature_reduction_2.fit(X_train, Y_train)"
   ]
  },
  {
   "cell_type": "code",
   "execution_count": 86,
   "id": "1c751878",
   "metadata": {},
   "outputs": [],
   "source": [
    "Feature_Importance_2 = pd.DataFrame(columns = [\"Feature\", \"Feature_Importance\"])\n",
    "Feature_Importance_2.Feature = X_train.columns\n",
    "Feature_Importance_2.Feature_Importance = model_for_feature_reduction_2.feature_importances_\n",
    "Feature_Importance_2.sort_values(by=[\"Feature_Importance\"], inplace=True, ascending=False)\n",
    "Feature_Importance_2\n",
    "Feature_Importance_2.to_csv(\"Feature_Importance_2.csv\", index=False)"
   ]
  },
  {
   "cell_type": "code",
   "execution_count": 87,
   "id": "bb6a244e",
   "metadata": {
    "collapsed": true
   },
   "outputs": [
    {
     "data": {
      "text/html": [
       "<div>\n",
       "<style scoped>\n",
       "    .dataframe tbody tr th:only-of-type {\n",
       "        vertical-align: middle;\n",
       "    }\n",
       "\n",
       "    .dataframe tbody tr th {\n",
       "        vertical-align: top;\n",
       "    }\n",
       "\n",
       "    .dataframe thead th {\n",
       "        text-align: right;\n",
       "    }\n",
       "</style>\n",
       "<table border=\"1\" class=\"dataframe\">\n",
       "  <thead>\n",
       "    <tr style=\"text-align: right;\">\n",
       "      <th></th>\n",
       "      <th>Feature</th>\n",
       "      <th>Feature_Importance</th>\n",
       "    </tr>\n",
       "  </thead>\n",
       "  <tbody>\n",
       "    <tr>\n",
       "      <th>226</th>\n",
       "      <td>P_2_last</td>\n",
       "      <td>0.101582</td>\n",
       "    </tr>\n",
       "    <tr>\n",
       "      <th>224</th>\n",
       "      <td>P_2_min</td>\n",
       "      <td>0.049019</td>\n",
       "    </tr>\n",
       "    <tr>\n",
       "      <th>241</th>\n",
       "      <td>B_2_last</td>\n",
       "      <td>0.043612</td>\n",
       "    </tr>\n",
       "    <tr>\n",
       "      <th>557</th>\n",
       "      <td>B_23_mean</td>\n",
       "      <td>0.029483</td>\n",
       "    </tr>\n",
       "    <tr>\n",
       "      <th>276</th>\n",
       "      <td>D_44_last</td>\n",
       "      <td>0.021654</td>\n",
       "    </tr>\n",
       "    <tr>\n",
       "      <th>...</th>\n",
       "      <td>...</td>\n",
       "      <td>...</td>\n",
       "    </tr>\n",
       "    <tr>\n",
       "      <th>132</th>\n",
       "      <td>D_106</td>\n",
       "      <td>0.000000</td>\n",
       "    </tr>\n",
       "    <tr>\n",
       "      <th>133</th>\n",
       "      <td>D_107</td>\n",
       "      <td>0.000000</td>\n",
       "    </tr>\n",
       "    <tr>\n",
       "      <th>134</th>\n",
       "      <td>B_36</td>\n",
       "      <td>0.000000</td>\n",
       "    </tr>\n",
       "    <tr>\n",
       "      <th>135</th>\n",
       "      <td>B_37</td>\n",
       "      <td>0.000000</td>\n",
       "    </tr>\n",
       "    <tr>\n",
       "      <th>1204</th>\n",
       "      <td>D_126_1.0_ever_response_12</td>\n",
       "      <td>0.000000</td>\n",
       "    </tr>\n",
       "  </tbody>\n",
       "</table>\n",
       "<p>1205 rows × 2 columns</p>\n",
       "</div>"
      ],
      "text/plain": [
       "                         Feature  Feature_Importance\n",
       "226                     P_2_last            0.101582\n",
       "224                      P_2_min            0.049019\n",
       "241                     B_2_last            0.043612\n",
       "557                    B_23_mean            0.029483\n",
       "276                    D_44_last            0.021654\n",
       "...                          ...                 ...\n",
       "132                        D_106            0.000000\n",
       "133                        D_107            0.000000\n",
       "134                         B_36            0.000000\n",
       "135                         B_37            0.000000\n",
       "1204  D_126_1.0_ever_response_12            0.000000\n",
       "\n",
       "[1205 rows x 2 columns]"
      ]
     },
     "execution_count": 87,
     "metadata": {},
     "output_type": "execute_result"
    }
   ],
   "source": [
    "Feature_Importance_2"
   ]
  },
  {
   "cell_type": "code",
   "execution_count": 89,
   "id": "de180ad6",
   "metadata": {
    "collapsed": true
   },
   "outputs": [
    {
     "data": {
      "text/plain": [
       "226     P_2_last\n",
       "236     B_1_last\n",
       "241     B_2_last\n",
       "275     D_44_max\n",
       "246     R_1_last\n",
       "561    B_23_last\n",
       "296     R_2_last\n",
       "262    D_42_mean\n",
       "Name: Feature, dtype: object"
      ]
     },
     "execution_count": 89,
     "metadata": {},
     "output_type": "execute_result"
    }
   ],
   "source": [
    "features_to_keep = Feature_Importance[Feature_Importance.Feature_Importance >= 0.005][\"Feature\"]\n",
    "features_to_keep"
   ]
  },
  {
   "cell_type": "code",
   "execution_count": 90,
   "id": "c8276338",
   "metadata": {
    "collapsed": true
   },
   "outputs": [
    {
     "data": {
      "text/plain": [
       "226      P_2_last\n",
       "224       P_2_min\n",
       "241      B_2_last\n",
       "557     B_23_mean\n",
       "276     D_44_last\n",
       "236      B_1_last\n",
       "237      B_2_mean\n",
       "243       R_1_std\n",
       "311     D_48_last\n",
       "267     D_43_mean\n",
       "929     D_111_min\n",
       "323       B_7_std\n",
       "326      B_7_last\n",
       "401      S_7_last\n",
       "346      B_9_last\n",
       "266     D_42_last\n",
       "261      B_3_last\n",
       "39           D_56\n",
       "55           B_19\n",
       "286     D_45_last\n",
       "247      S_3_mean\n",
       "1108     D_66_max\n",
       "Name: Feature, dtype: object"
      ]
     },
     "execution_count": 90,
     "metadata": {},
     "output_type": "execute_result"
    }
   ],
   "source": [
    "features_to_keep_2 = Feature_Importance_2[Feature_Importance_2.Feature_Importance >= 0.005][\"Feature\"]\n",
    "features_to_keep_2"
   ]
  },
  {
   "cell_type": "code",
   "execution_count": 93,
   "id": "82a6c6be",
   "metadata": {
    "collapsed": true
   },
   "outputs": [
    {
     "data": {
      "text/plain": [
       "array(['P_2_last', 'B_1_last', 'B_2_last', 'D_44_max', 'R_1_last',\n",
       "       'B_23_last', 'R_2_last', 'D_42_mean', 'P_2_min', 'B_23_mean',\n",
       "       'D_44_last', 'B_2_mean', 'R_1_std', 'D_48_last', 'D_43_mean',\n",
       "       'D_111_min', 'B_7_std', 'B_7_last', 'S_7_last', 'B_9_last',\n",
       "       'D_42_last', 'B_3_last', 'D_56', 'B_19', 'D_45_last', 'S_3_mean',\n",
       "       'D_66_max'], dtype=object)"
      ]
     },
     "execution_count": 93,
     "metadata": {},
     "output_type": "execute_result"
    }
   ],
   "source": [
    "all_features_to_keep = pd.concat([features_to_keep, features_to_keep_2]).unique()\n",
    "all_features_to_keep"
   ]
  },
  {
   "cell_type": "code",
   "execution_count": 94,
   "id": "83206488",
   "metadata": {},
   "outputs": [],
   "source": [
    "X_train = X_train[all_features_to_keep]\n",
    "X_test1 = X_test1[all_features_to_keep]\n",
    "X_test2 = X_test2[all_features_to_keep]"
   ]
  },
  {
   "cell_type": "code",
   "execution_count": 95,
   "id": "d02bf093",
   "metadata": {
    "collapsed": true
   },
   "outputs": [
    {
     "data": {
      "text/html": [
       "<div>\n",
       "<style scoped>\n",
       "    .dataframe tbody tr th:only-of-type {\n",
       "        vertical-align: middle;\n",
       "    }\n",
       "\n",
       "    .dataframe tbody tr th {\n",
       "        vertical-align: top;\n",
       "    }\n",
       "\n",
       "    .dataframe thead th {\n",
       "        text-align: right;\n",
       "    }\n",
       "</style>\n",
       "<table border=\"1\" class=\"dataframe\">\n",
       "  <thead>\n",
       "    <tr style=\"text-align: right;\">\n",
       "      <th></th>\n",
       "      <th>P_2_last</th>\n",
       "      <th>B_1_last</th>\n",
       "      <th>B_2_last</th>\n",
       "      <th>D_44_max</th>\n",
       "      <th>R_1_last</th>\n",
       "      <th>B_23_last</th>\n",
       "      <th>R_2_last</th>\n",
       "      <th>D_42_mean</th>\n",
       "      <th>P_2_min</th>\n",
       "      <th>B_23_mean</th>\n",
       "      <th>...</th>\n",
       "      <th>B_7_last</th>\n",
       "      <th>S_7_last</th>\n",
       "      <th>B_9_last</th>\n",
       "      <th>D_42_last</th>\n",
       "      <th>B_3_last</th>\n",
       "      <th>D_56</th>\n",
       "      <th>B_19</th>\n",
       "      <th>D_45_last</th>\n",
       "      <th>S_3_mean</th>\n",
       "      <th>D_66_max</th>\n",
       "    </tr>\n",
       "  </thead>\n",
       "  <tbody>\n",
       "    <tr>\n",
       "      <th>905105</th>\n",
       "      <td>0.944889</td>\n",
       "      <td>0.006522</td>\n",
       "      <td>0.813729</td>\n",
       "      <td>0.007334</td>\n",
       "      <td>0.001490</td>\n",
       "      <td>0.003793</td>\n",
       "      <td>0.005450</td>\n",
       "      <td>NaN</td>\n",
       "      <td>0.731393</td>\n",
       "      <td>0.017465</td>\n",
       "      <td>...</td>\n",
       "      <td>0.002318</td>\n",
       "      <td>0.057272</td>\n",
       "      <td>0.000211</td>\n",
       "      <td>NaN</td>\n",
       "      <td>0.002297</td>\n",
       "      <td>0.013266</td>\n",
       "      <td>0.001560</td>\n",
       "      <td>0.181687</td>\n",
       "      <td>0.098454</td>\n",
       "      <td>NaN</td>\n",
       "    </tr>\n",
       "    <tr>\n",
       "      <th>232514</th>\n",
       "      <td>0.395721</td>\n",
       "      <td>0.206755</td>\n",
       "      <td>0.205328</td>\n",
       "      <td>0.130624</td>\n",
       "      <td>0.009945</td>\n",
       "      <td>0.100245</td>\n",
       "      <td>0.009267</td>\n",
       "      <td>NaN</td>\n",
       "      <td>0.395721</td>\n",
       "      <td>0.089684</td>\n",
       "      <td>...</td>\n",
       "      <td>0.112766</td>\n",
       "      <td>0.406000</td>\n",
       "      <td>0.373772</td>\n",
       "      <td>NaN</td>\n",
       "      <td>0.180138</td>\n",
       "      <td>NaN</td>\n",
       "      <td>0.003380</td>\n",
       "      <td>0.076016</td>\n",
       "      <td>0.281478</td>\n",
       "      <td>NaN</td>\n",
       "    </tr>\n",
       "    <tr>\n",
       "      <th>520289</th>\n",
       "      <td>0.407848</td>\n",
       "      <td>0.026704</td>\n",
       "      <td>0.539601</td>\n",
       "      <td>0.134964</td>\n",
       "      <td>0.000956</td>\n",
       "      <td>0.015782</td>\n",
       "      <td>0.009595</td>\n",
       "      <td>0.022558</td>\n",
       "      <td>0.261217</td>\n",
       "      <td>0.016208</td>\n",
       "      <td>...</td>\n",
       "      <td>0.033183</td>\n",
       "      <td>0.162881</td>\n",
       "      <td>0.331855</td>\n",
       "      <td>0.019468</td>\n",
       "      <td>0.028668</td>\n",
       "      <td>0.653317</td>\n",
       "      <td>0.002509</td>\n",
       "      <td>0.047323</td>\n",
       "      <td>0.147232</td>\n",
       "      <td>NaN</td>\n",
       "    </tr>\n",
       "    <tr>\n",
       "      <th>908247</th>\n",
       "      <td>0.066303</td>\n",
       "      <td>1.323635</td>\n",
       "      <td>0.000109</td>\n",
       "      <td>NaN</td>\n",
       "      <td>0.005134</td>\n",
       "      <td>1.197610</td>\n",
       "      <td>1.007439</td>\n",
       "      <td>NaN</td>\n",
       "      <td>-0.020712</td>\n",
       "      <td>0.822233</td>\n",
       "      <td>...</td>\n",
       "      <td>1.247387</td>\n",
       "      <td>0.142377</td>\n",
       "      <td>0.690239</td>\n",
       "      <td>NaN</td>\n",
       "      <td>0.001763</td>\n",
       "      <td>0.097015</td>\n",
       "      <td>0.911675</td>\n",
       "      <td>0.281252</td>\n",
       "      <td>0.294595</td>\n",
       "      <td>NaN</td>\n",
       "    </tr>\n",
       "    <tr>\n",
       "      <th>876576</th>\n",
       "      <td>0.692296</td>\n",
       "      <td>0.008489</td>\n",
       "      <td>0.810278</td>\n",
       "      <td>0.007993</td>\n",
       "      <td>0.000676</td>\n",
       "      <td>0.009900</td>\n",
       "      <td>0.006733</td>\n",
       "      <td>NaN</td>\n",
       "      <td>0.692296</td>\n",
       "      <td>0.027126</td>\n",
       "      <td>...</td>\n",
       "      <td>0.013209</td>\n",
       "      <td>0.115667</td>\n",
       "      <td>0.005582</td>\n",
       "      <td>NaN</td>\n",
       "      <td>0.021407</td>\n",
       "      <td>NaN</td>\n",
       "      <td>0.007780</td>\n",
       "      <td>0.146952</td>\n",
       "      <td>0.182291</td>\n",
       "      <td>1.0</td>\n",
       "    </tr>\n",
       "    <tr>\n",
       "      <th>...</th>\n",
       "      <td>...</td>\n",
       "      <td>...</td>\n",
       "      <td>...</td>\n",
       "      <td>...</td>\n",
       "      <td>...</td>\n",
       "      <td>...</td>\n",
       "      <td>...</td>\n",
       "      <td>...</td>\n",
       "      <td>...</td>\n",
       "      <td>...</td>\n",
       "      <td>...</td>\n",
       "      <td>...</td>\n",
       "      <td>...</td>\n",
       "      <td>...</td>\n",
       "      <td>...</td>\n",
       "      <td>...</td>\n",
       "      <td>...</td>\n",
       "      <td>...</td>\n",
       "      <td>...</td>\n",
       "      <td>...</td>\n",
       "      <td>...</td>\n",
       "    </tr>\n",
       "    <tr>\n",
       "      <th>1051738</th>\n",
       "      <td>0.700425</td>\n",
       "      <td>0.232040</td>\n",
       "      <td>0.005583</td>\n",
       "      <td>0.134289</td>\n",
       "      <td>0.005612</td>\n",
       "      <td>0.211737</td>\n",
       "      <td>1.005927</td>\n",
       "      <td>NaN</td>\n",
       "      <td>0.451747</td>\n",
       "      <td>0.195204</td>\n",
       "      <td>...</td>\n",
       "      <td>0.221383</td>\n",
       "      <td>0.279596</td>\n",
       "      <td>0.618925</td>\n",
       "      <td>NaN</td>\n",
       "      <td>0.521868</td>\n",
       "      <td>0.232324</td>\n",
       "      <td>0.500362</td>\n",
       "      <td>0.096927</td>\n",
       "      <td>0.603322</td>\n",
       "      <td>NaN</td>\n",
       "    </tr>\n",
       "    <tr>\n",
       "      <th>390981</th>\n",
       "      <td>0.299608</td>\n",
       "      <td>0.009644</td>\n",
       "      <td>0.810570</td>\n",
       "      <td>0.509578</td>\n",
       "      <td>1.003720</td>\n",
       "      <td>0.390946</td>\n",
       "      <td>1.008630</td>\n",
       "      <td>0.238139</td>\n",
       "      <td>0.140164</td>\n",
       "      <td>0.287967</td>\n",
       "      <td>...</td>\n",
       "      <td>0.425283</td>\n",
       "      <td>0.172965</td>\n",
       "      <td>0.001131</td>\n",
       "      <td>0.224033</td>\n",
       "      <td>0.002898</td>\n",
       "      <td>NaN</td>\n",
       "      <td>0.001839</td>\n",
       "      <td>0.038563</td>\n",
       "      <td>0.166471</td>\n",
       "      <td>NaN</td>\n",
       "    </tr>\n",
       "    <tr>\n",
       "      <th>1019489</th>\n",
       "      <td>0.090953</td>\n",
       "      <td>0.083692</td>\n",
       "      <td>0.009631</td>\n",
       "      <td>0.009242</td>\n",
       "      <td>0.000402</td>\n",
       "      <td>0.062427</td>\n",
       "      <td>0.006524</td>\n",
       "      <td>NaN</td>\n",
       "      <td>0.064651</td>\n",
       "      <td>0.051257</td>\n",
       "      <td>...</td>\n",
       "      <td>0.086880</td>\n",
       "      <td>0.226418</td>\n",
       "      <td>0.202196</td>\n",
       "      <td>NaN</td>\n",
       "      <td>0.048573</td>\n",
       "      <td>NaN</td>\n",
       "      <td>0.509463</td>\n",
       "      <td>0.078212</td>\n",
       "      <td>0.208819</td>\n",
       "      <td>NaN</td>\n",
       "    </tr>\n",
       "    <tr>\n",
       "      <th>149513</th>\n",
       "      <td>0.874267</td>\n",
       "      <td>0.005580</td>\n",
       "      <td>0.811426</td>\n",
       "      <td>0.009517</td>\n",
       "      <td>0.000154</td>\n",
       "      <td>0.321782</td>\n",
       "      <td>0.002114</td>\n",
       "      <td>NaN</td>\n",
       "      <td>0.740767</td>\n",
       "      <td>0.205339</td>\n",
       "      <td>...</td>\n",
       "      <td>0.419930</td>\n",
       "      <td>NaN</td>\n",
       "      <td>0.002092</td>\n",
       "      <td>NaN</td>\n",
       "      <td>0.001991</td>\n",
       "      <td>NaN</td>\n",
       "      <td>0.005923</td>\n",
       "      <td>0.091765</td>\n",
       "      <td>NaN</td>\n",
       "      <td>0.0</td>\n",
       "    </tr>\n",
       "    <tr>\n",
       "      <th>423694</th>\n",
       "      <td>0.841995</td>\n",
       "      <td>0.649308</td>\n",
       "      <td>0.056808</td>\n",
       "      <td>0.133100</td>\n",
       "      <td>0.002153</td>\n",
       "      <td>0.624708</td>\n",
       "      <td>0.003192</td>\n",
       "      <td>NaN</td>\n",
       "      <td>0.806493</td>\n",
       "      <td>0.647900</td>\n",
       "      <td>...</td>\n",
       "      <td>0.608784</td>\n",
       "      <td>0.422227</td>\n",
       "      <td>0.005226</td>\n",
       "      <td>NaN</td>\n",
       "      <td>0.745699</td>\n",
       "      <td>0.210527</td>\n",
       "      <td>0.816285</td>\n",
       "      <td>0.706211</td>\n",
       "      <td>0.188662</td>\n",
       "      <td>NaN</td>\n",
       "    </tr>\n",
       "  </tbody>\n",
       "</table>\n",
       "<p>166061 rows × 27 columns</p>\n",
       "</div>"
      ],
      "text/plain": [
       "         P_2_last  B_1_last  B_2_last  D_44_max  R_1_last  B_23_last  \\\n",
       "905105   0.944889  0.006522  0.813729  0.007334  0.001490   0.003793   \n",
       "232514   0.395721  0.206755  0.205328  0.130624  0.009945   0.100245   \n",
       "520289   0.407848  0.026704  0.539601  0.134964  0.000956   0.015782   \n",
       "908247   0.066303  1.323635  0.000109       NaN  0.005134   1.197610   \n",
       "876576   0.692296  0.008489  0.810278  0.007993  0.000676   0.009900   \n",
       "...           ...       ...       ...       ...       ...        ...   \n",
       "1051738  0.700425  0.232040  0.005583  0.134289  0.005612   0.211737   \n",
       "390981   0.299608  0.009644  0.810570  0.509578  1.003720   0.390946   \n",
       "1019489  0.090953  0.083692  0.009631  0.009242  0.000402   0.062427   \n",
       "149513   0.874267  0.005580  0.811426  0.009517  0.000154   0.321782   \n",
       "423694   0.841995  0.649308  0.056808  0.133100  0.002153   0.624708   \n",
       "\n",
       "         R_2_last  D_42_mean   P_2_min  B_23_mean  ...  B_7_last  S_7_last  \\\n",
       "905105   0.005450        NaN  0.731393   0.017465  ...  0.002318  0.057272   \n",
       "232514   0.009267        NaN  0.395721   0.089684  ...  0.112766  0.406000   \n",
       "520289   0.009595   0.022558  0.261217   0.016208  ...  0.033183  0.162881   \n",
       "908247   1.007439        NaN -0.020712   0.822233  ...  1.247387  0.142377   \n",
       "876576   0.006733        NaN  0.692296   0.027126  ...  0.013209  0.115667   \n",
       "...           ...        ...       ...        ...  ...       ...       ...   \n",
       "1051738  1.005927        NaN  0.451747   0.195204  ...  0.221383  0.279596   \n",
       "390981   1.008630   0.238139  0.140164   0.287967  ...  0.425283  0.172965   \n",
       "1019489  0.006524        NaN  0.064651   0.051257  ...  0.086880  0.226418   \n",
       "149513   0.002114        NaN  0.740767   0.205339  ...  0.419930       NaN   \n",
       "423694   0.003192        NaN  0.806493   0.647900  ...  0.608784  0.422227   \n",
       "\n",
       "         B_9_last  D_42_last  B_3_last      D_56      B_19  D_45_last  \\\n",
       "905105   0.000211        NaN  0.002297  0.013266  0.001560   0.181687   \n",
       "232514   0.373772        NaN  0.180138       NaN  0.003380   0.076016   \n",
       "520289   0.331855   0.019468  0.028668  0.653317  0.002509   0.047323   \n",
       "908247   0.690239        NaN  0.001763  0.097015  0.911675   0.281252   \n",
       "876576   0.005582        NaN  0.021407       NaN  0.007780   0.146952   \n",
       "...           ...        ...       ...       ...       ...        ...   \n",
       "1051738  0.618925        NaN  0.521868  0.232324  0.500362   0.096927   \n",
       "390981   0.001131   0.224033  0.002898       NaN  0.001839   0.038563   \n",
       "1019489  0.202196        NaN  0.048573       NaN  0.509463   0.078212   \n",
       "149513   0.002092        NaN  0.001991       NaN  0.005923   0.091765   \n",
       "423694   0.005226        NaN  0.745699  0.210527  0.816285   0.706211   \n",
       "\n",
       "         S_3_mean  D_66_max  \n",
       "905105   0.098454       NaN  \n",
       "232514   0.281478       NaN  \n",
       "520289   0.147232       NaN  \n",
       "908247   0.294595       NaN  \n",
       "876576   0.182291       1.0  \n",
       "...           ...       ...  \n",
       "1051738  0.603322       NaN  \n",
       "390981   0.166471       NaN  \n",
       "1019489  0.208819       NaN  \n",
       "149513        NaN       0.0  \n",
       "423694   0.188662       NaN  \n",
       "\n",
       "[166061 rows x 27 columns]"
      ]
     },
     "execution_count": 95,
     "metadata": {},
     "output_type": "execute_result"
    }
   ],
   "source": [
    "X_test2"
   ]
  },
  {
   "cell_type": "code",
   "execution_count": 96,
   "id": "207739c7",
   "metadata": {},
   "outputs": [],
   "source": [
    "from sklearn.metrics import roc_auc_score"
   ]
  },
  {
   "cell_type": "code",
   "execution_count": 97,
   "id": "e372f1ac",
   "metadata": {},
   "outputs": [],
   "source": [
    "# Step 11: XGBoost Grid Search\n",
    "Grid_Search_Results = pd.DataFrame(columns = [\"Number Trees\", \"Learning Rate\", 'Subsample', '% Features', 'Weight of Default',\"AUC Train\", \"AUC Test 1\", \"AUC Test 2\"])\n",
    "\n",
    "Counter = 0\n",
    "for n_trees in [50, 100, 300]:\n",
    "    for lr in [0.01, 0.1]:\n",
    "        for subsample in [0.5, 0.8]:\n",
    "            for colsample in [0.5, 1.0]:\n",
    "                for weight in [1, 5, 10]:\n",
    "                    xgb_instance = XGBClassifier(n_estimators= n_trees, learning_rate = lr,subsample=subsample, colsample_bytree=colsample, scale_pos_weight=weight)\n",
    "                    model = xgb_instance.fit(X_train, Y_train)\n",
    "                    Grid_Search_Results.loc[Counter,\"Number Trees\"] = n_trees\n",
    "                    Grid_Search_Results.loc[Counter,\"Learning Rate\"] = lr\n",
    "                    Grid_Search_Results.loc[Counter,\"Subsample\"] = subsample\n",
    "                    Grid_Search_Results.loc[Counter,\"% Features\"] = colsample\n",
    "                    Grid_Search_Results.loc[Counter,\"Weight of Default\"] = weight\n",
    "                    Grid_Search_Results.loc[Counter,\"AUC Train\"] = roc_auc_score(Y_train, model.predict_proba(X_train)[:,1])\n",
    "                    Grid_Search_Results.loc[Counter,\"AUC Test 1\"] = roc_auc_score(Y_test1, model.predict_proba(X_test1)[:,1])\n",
    "                    Grid_Search_Results.loc[Counter,\"AUC Test 2\"] = roc_auc_score(Y_test2, model.predict_proba(X_test2)[:,1])\n",
    "\n",
    "                    Counter = Counter + 1\n",
    "                    Grid_Search_Results.to_csv(\"/Users/maverick/Downloads/BUAN 6341/Grid_Search_Results.csv\")"
   ]
  },
  {
   "cell_type": "code",
   "execution_count": 98,
   "id": "d974cbce",
   "metadata": {
    "collapsed": true
   },
   "outputs": [
    {
     "name": "stdout",
     "output_type": "stream",
     "text": [
      "   Number Trees Learning Rate Subsample % Features Weight of Default  \\\n",
      "0            50          0.01       0.5        0.5                 1   \n",
      "1            50          0.01       0.5        0.5                 5   \n",
      "2            50          0.01       0.5        0.5                10   \n",
      "3            50          0.01       0.5        1.0                 1   \n",
      "4            50          0.01       0.5        1.0                 5   \n",
      "..          ...           ...       ...        ...               ...   \n",
      "67          300           0.1       0.8        0.5                 5   \n",
      "68          300           0.1       0.8        0.5                10   \n",
      "69          300           0.1       0.8        1.0                 1   \n",
      "70          300           0.1       0.8        1.0                 5   \n",
      "71          300           0.1       0.8        1.0                10   \n",
      "\n",
      "   AUC Train AUC Test 1 AUC Test 2  \n",
      "0   0.954004   0.953278   0.954243  \n",
      "1   0.952543   0.951857   0.952767  \n",
      "2    0.95192   0.951274   0.952118  \n",
      "3   0.952737   0.951852   0.952853  \n",
      "4   0.951043   0.950126   0.951229  \n",
      "..       ...        ...        ...  \n",
      "67  0.982177   0.980074    0.98035  \n",
      "68  0.981084   0.979008   0.979345  \n",
      "69  0.985316   0.982886   0.983264  \n",
      "70  0.984189   0.982014   0.982257  \n",
      "71  0.983449   0.981368   0.981554  \n",
      "\n",
      "[72 rows x 8 columns]\n"
     ]
    }
   ],
   "source": [
    "print(Grid_Search_Results)"
   ]
  },
  {
   "cell_type": "code",
   "execution_count": 151,
   "id": "431228e6",
   "metadata": {},
   "outputs": [],
   "source": [
    "# Step 12: Choose best XGBoost model\n",
    "best_model_idx = Grid_Search_Results[['AUC Train', 'AUC Test 1', 'AUC Test 2']].mean(axis=1).idxmax()\n",
    "best_params = Grid_Search_Results.iloc[best_model_idx, :5].to_dict()"
   ]
  },
  {
   "cell_type": "code",
   "execution_count": 152,
   "id": "5e75062f",
   "metadata": {},
   "outputs": [],
   "source": [
    "best_xgb_instance = xgb.XGBClassifier(\n",
    "    n_estimators=best_params['Number Trees'],\n",
    "    learning_rate=best_params['Learning Rate'],\n",
    "    subsample=best_params['Subsample'],\n",
    "    colsample_bytree=best_params['% Features'],\n",
    "    scale_pos_weight=best_params['Weight of Default']\n",
    ")\n",
    "\n",
    "# Fit the model on the training data\n",
    "best_xgb_model = best_xgb_instance.fit(X_train, Y_train)"
   ]
  },
  {
   "cell_type": "code",
   "execution_count": 105,
   "id": "b2e647e7",
   "metadata": {},
   "outputs": [],
   "source": [
    "# Step 13: Data Processing for Neural Network\n",
    "from sklearn.impute import SimpleImputer\n",
    "from sklearn.preprocessing import StandardScaler\n",
    "\n",
    "imputer = SimpleImputer(strategy='constant', fill_value=0)\n",
    "scaler = StandardScaler()\n",
    "\n",
    "X_train_nn = imputer.fit_transform(X_train)\n",
    "X_test1_nn = imputer.transform(X_test1)\n",
    "X_test2_nn = imputer.transform(X_test2)\n",
    "\n",
    "X_train_nn = scaler.fit_transform(np.clip(X_train_nn, np.percentile(X_train_nn, 1), np.percentile(X_train_nn, 99)))\n",
    "X_test1_nn = scaler.transform(np.clip(X_test1_nn, np.percentile(X_train_nn, 1), np.percentile(X_train_nn, 99)))\n",
    "X_test2_nn = scaler.transform(np.clip(X_test2_nn, np.percentile(X_train_nn, 1), np.percentile(X_train_nn, 99)))"
   ]
  },
  {
   "cell_type": "code",
   "execution_count": 117,
   "id": "c2118136",
   "metadata": {
    "collapsed": true
   },
   "outputs": [
    {
     "data": {
      "text/html": [
       "<div>\n",
       "<style scoped>\n",
       "    .dataframe tbody tr th:only-of-type {\n",
       "        vertical-align: middle;\n",
       "    }\n",
       "\n",
       "    .dataframe tbody tr th {\n",
       "        vertical-align: top;\n",
       "    }\n",
       "\n",
       "    .dataframe thead th {\n",
       "        text-align: right;\n",
       "    }\n",
       "</style>\n",
       "<table border=\"1\" class=\"dataframe\">\n",
       "  <thead>\n",
       "    <tr style=\"text-align: right;\">\n",
       "      <th></th>\n",
       "      <th>Column Name</th>\n",
       "      <th>P1</th>\n",
       "      <th>P99</th>\n",
       "    </tr>\n",
       "  </thead>\n",
       "  <tbody>\n",
       "    <tr>\n",
       "      <th>0</th>\n",
       "      <td>P_2_last</td>\n",
       "      <td>-0.083832</td>\n",
       "      <td>1.006322</td>\n",
       "    </tr>\n",
       "    <tr>\n",
       "      <th>1</th>\n",
       "      <td>B_1_last</td>\n",
       "      <td>0.000496</td>\n",
       "      <td>1.054248</td>\n",
       "    </tr>\n",
       "    <tr>\n",
       "      <th>2</th>\n",
       "      <td>B_2_last</td>\n",
       "      <td>0.001835</td>\n",
       "      <td>1.009701</td>\n",
       "    </tr>\n",
       "    <tr>\n",
       "      <th>3</th>\n",
       "      <td>D_44_max</td>\n",
       "      <td>0.006981</td>\n",
       "      <td>1.255546</td>\n",
       "    </tr>\n",
       "    <tr>\n",
       "      <th>4</th>\n",
       "      <td>R_1_last</td>\n",
       "      <td>0.000112</td>\n",
       "      <td>1.502031</td>\n",
       "    </tr>\n",
       "    <tr>\n",
       "      <th>5</th>\n",
       "      <td>B_23_last</td>\n",
       "      <td>0.001447</td>\n",
       "      <td>1.045133</td>\n",
       "    </tr>\n",
       "    <tr>\n",
       "      <th>6</th>\n",
       "      <td>R_2_last</td>\n",
       "      <td>0.00011</td>\n",
       "      <td>1.008703</td>\n",
       "    </tr>\n",
       "    <tr>\n",
       "      <th>7</th>\n",
       "      <td>D_42_mean</td>\n",
       "      <td>0.004561</td>\n",
       "      <td>0.947784</td>\n",
       "    </tr>\n",
       "    <tr>\n",
       "      <th>8</th>\n",
       "      <td>P_2_min</td>\n",
       "      <td>-0.129115</td>\n",
       "      <td>0.978856</td>\n",
       "    </tr>\n",
       "    <tr>\n",
       "      <th>9</th>\n",
       "      <td>B_23_mean</td>\n",
       "      <td>0.005064</td>\n",
       "      <td>0.902647</td>\n",
       "    </tr>\n",
       "    <tr>\n",
       "      <th>10</th>\n",
       "      <td>D_44_last</td>\n",
       "      <td>0.000157</td>\n",
       "      <td>1.128831</td>\n",
       "    </tr>\n",
       "    <tr>\n",
       "      <th>11</th>\n",
       "      <td>B_2_mean</td>\n",
       "      <td>0.022936</td>\n",
       "      <td>1.006133</td>\n",
       "    </tr>\n",
       "    <tr>\n",
       "      <th>12</th>\n",
       "      <td>R_1_std</td>\n",
       "      <td>0.001886</td>\n",
       "      <td>0.586058</td>\n",
       "    </tr>\n",
       "    <tr>\n",
       "      <th>13</th>\n",
       "      <td>D_48_last</td>\n",
       "      <td>0.000196</td>\n",
       "      <td>1.045899</td>\n",
       "    </tr>\n",
       "    <tr>\n",
       "      <th>14</th>\n",
       "      <td>D_43_mean</td>\n",
       "      <td>0.004582</td>\n",
       "      <td>0.81509</td>\n",
       "    </tr>\n",
       "    <tr>\n",
       "      <th>15</th>\n",
       "      <td>D_111_min</td>\n",
       "      <td>0.000204</td>\n",
       "      <td>1.008289</td>\n",
       "    </tr>\n",
       "    <tr>\n",
       "      <th>16</th>\n",
       "      <td>B_7_std</td>\n",
       "      <td>0.003033</td>\n",
       "      <td>0.33211</td>\n",
       "    </tr>\n",
       "    <tr>\n",
       "      <th>17</th>\n",
       "      <td>B_7_last</td>\n",
       "      <td>0.00253</td>\n",
       "      <td>1.02907</td>\n",
       "    </tr>\n",
       "    <tr>\n",
       "      <th>18</th>\n",
       "      <td>S_7_last</td>\n",
       "      <td>0.001425</td>\n",
       "      <td>0.945168</td>\n",
       "    </tr>\n",
       "    <tr>\n",
       "      <th>19</th>\n",
       "      <td>B_9_last</td>\n",
       "      <td>0.000234</td>\n",
       "      <td>0.980073</td>\n",
       "    </tr>\n",
       "    <tr>\n",
       "      <th>20</th>\n",
       "      <td>D_42_last</td>\n",
       "      <td>0.002612</td>\n",
       "      <td>0.891776</td>\n",
       "    </tr>\n",
       "    <tr>\n",
       "      <th>21</th>\n",
       "      <td>B_3_last</td>\n",
       "      <td>0.000272</td>\n",
       "      <td>1.054184</td>\n",
       "    </tr>\n",
       "    <tr>\n",
       "      <th>22</th>\n",
       "      <td>D_56</td>\n",
       "      <td>0.005099</td>\n",
       "      <td>1.002718</td>\n",
       "    </tr>\n",
       "    <tr>\n",
       "      <th>23</th>\n",
       "      <td>B_19</td>\n",
       "      <td>0.000138</td>\n",
       "      <td>1.00754</td>\n",
       "    </tr>\n",
       "    <tr>\n",
       "      <th>24</th>\n",
       "      <td>D_45_last</td>\n",
       "      <td>0.012757</td>\n",
       "      <td>1.008642</td>\n",
       "    </tr>\n",
       "    <tr>\n",
       "      <th>25</th>\n",
       "      <td>S_3_mean</td>\n",
       "      <td>0.020671</td>\n",
       "      <td>0.877372</td>\n",
       "    </tr>\n",
       "    <tr>\n",
       "      <th>26</th>\n",
       "      <td>D_66_max</td>\n",
       "      <td>0.0</td>\n",
       "      <td>1.0</td>\n",
       "    </tr>\n",
       "  </tbody>\n",
       "</table>\n",
       "</div>"
      ],
      "text/plain": [
       "   Column Name        P1       P99\n",
       "0     P_2_last -0.083832  1.006322\n",
       "1     B_1_last  0.000496  1.054248\n",
       "2     B_2_last  0.001835  1.009701\n",
       "3     D_44_max  0.006981  1.255546\n",
       "4     R_1_last  0.000112  1.502031\n",
       "5    B_23_last  0.001447  1.045133\n",
       "6     R_2_last   0.00011  1.008703\n",
       "7    D_42_mean  0.004561  0.947784\n",
       "8      P_2_min -0.129115  0.978856\n",
       "9    B_23_mean  0.005064  0.902647\n",
       "10   D_44_last  0.000157  1.128831\n",
       "11    B_2_mean  0.022936  1.006133\n",
       "12     R_1_std  0.001886  0.586058\n",
       "13   D_48_last  0.000196  1.045899\n",
       "14   D_43_mean  0.004582   0.81509\n",
       "15   D_111_min  0.000204  1.008289\n",
       "16     B_7_std  0.003033   0.33211\n",
       "17    B_7_last   0.00253   1.02907\n",
       "18    S_7_last  0.001425  0.945168\n",
       "19    B_9_last  0.000234  0.980073\n",
       "20   D_42_last  0.002612  0.891776\n",
       "21    B_3_last  0.000272  1.054184\n",
       "22        D_56  0.005099  1.002718\n",
       "23        B_19  0.000138   1.00754\n",
       "24   D_45_last  0.012757  1.008642\n",
       "25    S_3_mean  0.020671  0.877372\n",
       "26    D_66_max       0.0       1.0"
      ]
     },
     "execution_count": 117,
     "metadata": {},
     "output_type": "execute_result"
    }
   ],
   "source": [
    "# Step 13: Data Processing for Neural Network\n",
    "outlier = pd.DataFrame(columns=[\"Column Name\", \"P1\", \"P99\"])\n",
    "\n",
    "counter = 0\n",
    "for feature in all_features_to_keep:\n",
    "    outlier.loc[counter, \"Column Name\"] = feature\n",
    "    outlier.loc[counter, \"P1\"] = dev_sample[feature].quantile(0.01)\n",
    "    outlier.loc[counter, \"P99\"] = dev_sample[feature].quantile(0.99)\n",
    "    counter += 1\n",
    "\n",
    "outlier"
   ]
  },
  {
   "cell_type": "code",
   "execution_count": 119,
   "id": "20a69400",
   "metadata": {},
   "outputs": [],
   "source": [
    "# Next we replace outlers with P1 and P99\n",
    "import numpy as np\n",
    "\n",
    "for counter in range (outlier.shape[0]):\n",
    "    X_train[outlier.loc[counter, \"Column Name\"]] = np.where(X_train[outlier.loc[counter, \"Column Name\"]] < outlier.loc[counter, \"P1\"],\n",
    "                                                       outlier.loc[counter, \"P1\"], X_train[outlier.loc[counter, \"Column Name\"]])\n",
    "\n",
    "    X_train[outlier.loc[counter, \"Column Name\"]] = np.where(X_train[outlier.loc[counter, \"Column Name\"]] > outlier.loc[counter, \"P99\"],\n",
    "                                                       outlier.loc[counter, \"P99\"], X_train[outlier.loc[counter, \"Column Name\"]])\n"
   ]
  },
  {
   "cell_type": "code",
   "execution_count": 122,
   "id": "2b3e4d53",
   "metadata": {},
   "outputs": [],
   "source": [
    "# Next we do the same for test samples. Note we use the same P1/P99 that we got from train sample.\n",
    "# Test sample represents unseen data, and should not be used in any stage of the model, including data processing.\n",
    "\n",
    "for counter in range (outlier.shape[0]):\n",
    "    X_test1[outlier.loc[counter, \"Column Name\"]] = np.where(X_test1[outlier.loc[counter, \"Column Name\"]] < outlier.loc[counter, \"P1\"],\n",
    "                                                       outlier.loc[counter, \"P1\"], X_test1[outlier.loc[counter, \"Column Name\"]])\n",
    "\n",
    "    X_test2[outlier.loc[counter, \"Column Name\"]] = np.where(X_test2[outlier.loc[counter, \"Column Name\"]] < outlier.loc[counter, \"P1\"],\n",
    "                                                       outlier.loc[counter, \"P1\"], X_test2[outlier.loc[counter, \"Column Name\"]])\n",
    "\n",
    "    X_test1[outlier.loc[counter, \"Column Name\"]] = np.where(X_test1[outlier.loc[counter, \"Column Name\"]] > outlier.loc[counter, \"P99\"],\n",
    "                                                       outlier.loc[counter, \"P99\"], X_test1[outlier.loc[counter, \"Column Name\"]])\n",
    "\n",
    "    X_test2[outlier.loc[counter, \"Column Name\"]] = np.where(X_test2[outlier.loc[counter, \"Column Name\"]] > outlier.loc[counter, \"P99\"],\n",
    "                                                       outlier.loc[counter, \"P99\"], X_test2[outlier.loc[counter, \"Column Name\"]])\n"
   ]
  },
  {
   "cell_type": "code",
   "execution_count": 123,
   "id": "b8a11381",
   "metadata": {},
   "outputs": [],
   "source": [
    "# Feature Scaling: We will use StandardScaler. There are other scaling options such as Min-Max Scaler.\n",
    "# No matter which technique to use, again scaling parameters (here mean and STD) should come from the train sample.\n",
    "# To find scaling parameters, we use a sklearn package.\n",
    "\n",
    "# get scaling parameters\n",
    "from sklearn.preprocessing import StandardScaler\n",
    "sc = StandardScaler()\n",
    "sc.fit(X_train)\n",
    "\n",
    "# scale features\n",
    "X_train = pd.DataFrame(sc.transform(X_train), columns = X_train.columns)\n",
    "X_test1 = pd.DataFrame(sc.transform(X_test1), columns = X_test1.columns)\n",
    "X_test2 = pd.DataFrame(sc.transform(X_test2), columns = X_test2.columns)"
   ]
  },
  {
   "cell_type": "code",
   "execution_count": 115,
   "id": "1319fe4b",
   "metadata": {
    "collapsed": true
   },
   "outputs": [
    {
     "data": {
      "text/html": [
       "<div>\n",
       "<style scoped>\n",
       "    .dataframe tbody tr th:only-of-type {\n",
       "        vertical-align: middle;\n",
       "    }\n",
       "\n",
       "    .dataframe tbody tr th {\n",
       "        vertical-align: top;\n",
       "    }\n",
       "\n",
       "    .dataframe thead th {\n",
       "        text-align: right;\n",
       "    }\n",
       "</style>\n",
       "<table border=\"1\" class=\"dataframe\">\n",
       "  <thead>\n",
       "    <tr style=\"text-align: right;\">\n",
       "      <th></th>\n",
       "      <th>P_2_last</th>\n",
       "      <th>B_1_last</th>\n",
       "      <th>B_2_last</th>\n",
       "      <th>D_44_max</th>\n",
       "      <th>R_1_last</th>\n",
       "      <th>B_23_last</th>\n",
       "      <th>R_2_last</th>\n",
       "      <th>D_42_mean</th>\n",
       "      <th>P_2_min</th>\n",
       "      <th>B_23_mean</th>\n",
       "      <th>...</th>\n",
       "      <th>B_7_last</th>\n",
       "      <th>S_7_last</th>\n",
       "      <th>B_9_last</th>\n",
       "      <th>D_42_last</th>\n",
       "      <th>B_3_last</th>\n",
       "      <th>D_56</th>\n",
       "      <th>B_19</th>\n",
       "      <th>D_45_last</th>\n",
       "      <th>S_3_mean</th>\n",
       "      <th>D_66_max</th>\n",
       "    </tr>\n",
       "  </thead>\n",
       "  <tbody>\n",
       "    <tr>\n",
       "      <th>182769</th>\n",
       "      <td>0.496959</td>\n",
       "      <td>0.287810</td>\n",
       "      <td>0.056929</td>\n",
       "      <td>0.133076</td>\n",
       "      <td>0.001392</td>\n",
       "      <td>0.125750</td>\n",
       "      <td>0.005378</td>\n",
       "      <td>0.000000</td>\n",
       "      <td>0.496959</td>\n",
       "      <td>0.055653</td>\n",
       "      <td>...</td>\n",
       "      <td>0.129357</td>\n",
       "      <td>0.090073</td>\n",
       "      <td>1.618720</td>\n",
       "      <td>0.000000</td>\n",
       "      <td>0.222977</td>\n",
       "      <td>0.145412</td>\n",
       "      <td>0.001598</td>\n",
       "      <td>0.195625</td>\n",
       "      <td>0.184165</td>\n",
       "      <td>0.0</td>\n",
       "    </tr>\n",
       "    <tr>\n",
       "      <th>241802</th>\n",
       "      <td>0.859407</td>\n",
       "      <td>0.013125</td>\n",
       "      <td>1.009685</td>\n",
       "      <td>0.009289</td>\n",
       "      <td>0.008317</td>\n",
       "      <td>0.008875</td>\n",
       "      <td>0.005138</td>\n",
       "      <td>0.000000</td>\n",
       "      <td>0.769543</td>\n",
       "      <td>0.021746</td>\n",
       "      <td>...</td>\n",
       "      <td>0.007024</td>\n",
       "      <td>0.064558</td>\n",
       "      <td>0.001715</td>\n",
       "      <td>0.000000</td>\n",
       "      <td>0.003450</td>\n",
       "      <td>0.352785</td>\n",
       "      <td>0.001588</td>\n",
       "      <td>0.137131</td>\n",
       "      <td>0.102559</td>\n",
       "      <td>0.0</td>\n",
       "    </tr>\n",
       "    <tr>\n",
       "      <th>769241</th>\n",
       "      <td>0.945290</td>\n",
       "      <td>0.027036</td>\n",
       "      <td>1.000382</td>\n",
       "      <td>0.007802</td>\n",
       "      <td>0.000314</td>\n",
       "      <td>0.013022</td>\n",
       "      <td>0.005344</td>\n",
       "      <td>0.000000</td>\n",
       "      <td>0.515443</td>\n",
       "      <td>0.010340</td>\n",
       "      <td>...</td>\n",
       "      <td>0.025825</td>\n",
       "      <td>0.069300</td>\n",
       "      <td>0.001949</td>\n",
       "      <td>0.000000</td>\n",
       "      <td>0.002920</td>\n",
       "      <td>0.170342</td>\n",
       "      <td>0.001958</td>\n",
       "      <td>0.727309</td>\n",
       "      <td>0.094266</td>\n",
       "      <td>0.0</td>\n",
       "    </tr>\n",
       "    <tr>\n",
       "      <th>786784</th>\n",
       "      <td>0.740042</td>\n",
       "      <td>0.146528</td>\n",
       "      <td>0.072188</td>\n",
       "      <td>0.255785</td>\n",
       "      <td>0.005522</td>\n",
       "      <td>0.453014</td>\n",
       "      <td>0.004411</td>\n",
       "      <td>0.000000</td>\n",
       "      <td>0.649869</td>\n",
       "      <td>0.425415</td>\n",
       "      <td>...</td>\n",
       "      <td>0.484120</td>\n",
       "      <td>0.090422</td>\n",
       "      <td>0.076865</td>\n",
       "      <td>0.000000</td>\n",
       "      <td>0.283841</td>\n",
       "      <td>0.058234</td>\n",
       "      <td>0.546189</td>\n",
       "      <td>0.360008</td>\n",
       "      <td>0.206411</td>\n",
       "      <td>0.0</td>\n",
       "    </tr>\n",
       "    <tr>\n",
       "      <th>975133</th>\n",
       "      <td>0.660155</td>\n",
       "      <td>0.010987</td>\n",
       "      <td>1.000730</td>\n",
       "      <td>0.009391</td>\n",
       "      <td>0.006295</td>\n",
       "      <td>0.011107</td>\n",
       "      <td>0.003893</td>\n",
       "      <td>0.000000</td>\n",
       "      <td>0.618985</td>\n",
       "      <td>0.086327</td>\n",
       "      <td>...</td>\n",
       "      <td>0.012614</td>\n",
       "      <td>0.015169</td>\n",
       "      <td>0.022663</td>\n",
       "      <td>0.000000</td>\n",
       "      <td>0.054372</td>\n",
       "      <td>0.000000</td>\n",
       "      <td>0.187379</td>\n",
       "      <td>0.403125</td>\n",
       "      <td>0.123456</td>\n",
       "      <td>1.0</td>\n",
       "    </tr>\n",
       "    <tr>\n",
       "      <th>...</th>\n",
       "      <td>...</td>\n",
       "      <td>...</td>\n",
       "      <td>...</td>\n",
       "      <td>...</td>\n",
       "      <td>...</td>\n",
       "      <td>...</td>\n",
       "      <td>...</td>\n",
       "      <td>...</td>\n",
       "      <td>...</td>\n",
       "      <td>...</td>\n",
       "      <td>...</td>\n",
       "      <td>...</td>\n",
       "      <td>...</td>\n",
       "      <td>...</td>\n",
       "      <td>...</td>\n",
       "      <td>...</td>\n",
       "      <td>...</td>\n",
       "      <td>...</td>\n",
       "      <td>...</td>\n",
       "      <td>...</td>\n",
       "      <td>...</td>\n",
       "    </tr>\n",
       "    <tr>\n",
       "      <th>110268</th>\n",
       "      <td>0.656411</td>\n",
       "      <td>0.044336</td>\n",
       "      <td>1.007016</td>\n",
       "      <td>0.131403</td>\n",
       "      <td>0.002799</td>\n",
       "      <td>0.057703</td>\n",
       "      <td>0.008155</td>\n",
       "      <td>0.000000</td>\n",
       "      <td>0.651503</td>\n",
       "      <td>0.043704</td>\n",
       "      <td>...</td>\n",
       "      <td>0.063858</td>\n",
       "      <td>0.075845</td>\n",
       "      <td>0.060060</td>\n",
       "      <td>0.000000</td>\n",
       "      <td>0.025882</td>\n",
       "      <td>0.891379</td>\n",
       "      <td>0.085693</td>\n",
       "      <td>0.538916</td>\n",
       "      <td>0.094249</td>\n",
       "      <td>0.0</td>\n",
       "    </tr>\n",
       "    <tr>\n",
       "      <th>259178</th>\n",
       "      <td>0.387004</td>\n",
       "      <td>0.214951</td>\n",
       "      <td>0.024962</td>\n",
       "      <td>0.884363</td>\n",
       "      <td>0.006598</td>\n",
       "      <td>0.427526</td>\n",
       "      <td>0.005532</td>\n",
       "      <td>0.051599</td>\n",
       "      <td>0.308541</td>\n",
       "      <td>0.287140</td>\n",
       "      <td>...</td>\n",
       "      <td>0.428833</td>\n",
       "      <td>0.238701</td>\n",
       "      <td>0.635126</td>\n",
       "      <td>0.045908</td>\n",
       "      <td>0.234551</td>\n",
       "      <td>0.000000</td>\n",
       "      <td>0.663422</td>\n",
       "      <td>0.024923</td>\n",
       "      <td>0.556933</td>\n",
       "      <td>0.0</td>\n",
       "    </tr>\n",
       "    <tr>\n",
       "      <th>131932</th>\n",
       "      <td>-0.126758</td>\n",
       "      <td>0.282574</td>\n",
       "      <td>0.059192</td>\n",
       "      <td>0.378495</td>\n",
       "      <td>0.504873</td>\n",
       "      <td>0.568819</td>\n",
       "      <td>1.001571</td>\n",
       "      <td>0.000000</td>\n",
       "      <td>-0.126758</td>\n",
       "      <td>0.521570</td>\n",
       "      <td>...</td>\n",
       "      <td>0.583438</td>\n",
       "      <td>0.506010</td>\n",
       "      <td>0.631523</td>\n",
       "      <td>0.000000</td>\n",
       "      <td>0.605640</td>\n",
       "      <td>0.000000</td>\n",
       "      <td>0.008190</td>\n",
       "      <td>0.514414</td>\n",
       "      <td>0.682694</td>\n",
       "      <td>0.0</td>\n",
       "    </tr>\n",
       "    <tr>\n",
       "      <th>671155</th>\n",
       "      <td>0.690684</td>\n",
       "      <td>0.011292</td>\n",
       "      <td>1.000960</td>\n",
       "      <td>0.009987</td>\n",
       "      <td>0.008492</td>\n",
       "      <td>0.011890</td>\n",
       "      <td>0.005936</td>\n",
       "      <td>0.000000</td>\n",
       "      <td>0.537670</td>\n",
       "      <td>0.016471</td>\n",
       "      <td>...</td>\n",
       "      <td>0.010738</td>\n",
       "      <td>0.054497</td>\n",
       "      <td>0.032934</td>\n",
       "      <td>0.000000</td>\n",
       "      <td>0.011278</td>\n",
       "      <td>0.000000</td>\n",
       "      <td>0.004876</td>\n",
       "      <td>0.236419</td>\n",
       "      <td>0.051486</td>\n",
       "      <td>0.0</td>\n",
       "    </tr>\n",
       "    <tr>\n",
       "      <th>121958</th>\n",
       "      <td>0.436707</td>\n",
       "      <td>0.002293</td>\n",
       "      <td>0.812956</td>\n",
       "      <td>0.130927</td>\n",
       "      <td>0.006820</td>\n",
       "      <td>0.016843</td>\n",
       "      <td>0.003574</td>\n",
       "      <td>0.000000</td>\n",
       "      <td>0.411495</td>\n",
       "      <td>0.050676</td>\n",
       "      <td>...</td>\n",
       "      <td>0.024399</td>\n",
       "      <td>0.000000</td>\n",
       "      <td>0.007792</td>\n",
       "      <td>0.000000</td>\n",
       "      <td>0.003856</td>\n",
       "      <td>0.358576</td>\n",
       "      <td>0.009527</td>\n",
       "      <td>0.329899</td>\n",
       "      <td>0.000000</td>\n",
       "      <td>1.0</td>\n",
       "    </tr>\n",
       "  </tbody>\n",
       "</table>\n",
       "<p>774948 rows × 27 columns</p>\n",
       "</div>"
      ],
      "text/plain": [
       "        P_2_last  B_1_last  B_2_last  D_44_max  R_1_last  B_23_last  R_2_last  \\\n",
       "182769  0.496959  0.287810  0.056929  0.133076  0.001392   0.125750  0.005378   \n",
       "241802  0.859407  0.013125  1.009685  0.009289  0.008317   0.008875  0.005138   \n",
       "769241  0.945290  0.027036  1.000382  0.007802  0.000314   0.013022  0.005344   \n",
       "786784  0.740042  0.146528  0.072188  0.255785  0.005522   0.453014  0.004411   \n",
       "975133  0.660155  0.010987  1.000730  0.009391  0.006295   0.011107  0.003893   \n",
       "...          ...       ...       ...       ...       ...        ...       ...   \n",
       "110268  0.656411  0.044336  1.007016  0.131403  0.002799   0.057703  0.008155   \n",
       "259178  0.387004  0.214951  0.024962  0.884363  0.006598   0.427526  0.005532   \n",
       "131932 -0.126758  0.282574  0.059192  0.378495  0.504873   0.568819  1.001571   \n",
       "671155  0.690684  0.011292  1.000960  0.009987  0.008492   0.011890  0.005936   \n",
       "121958  0.436707  0.002293  0.812956  0.130927  0.006820   0.016843  0.003574   \n",
       "\n",
       "        D_42_mean   P_2_min  B_23_mean  ...  B_7_last  S_7_last  B_9_last  \\\n",
       "182769   0.000000  0.496959   0.055653  ...  0.129357  0.090073  1.618720   \n",
       "241802   0.000000  0.769543   0.021746  ...  0.007024  0.064558  0.001715   \n",
       "769241   0.000000  0.515443   0.010340  ...  0.025825  0.069300  0.001949   \n",
       "786784   0.000000  0.649869   0.425415  ...  0.484120  0.090422  0.076865   \n",
       "975133   0.000000  0.618985   0.086327  ...  0.012614  0.015169  0.022663   \n",
       "...           ...       ...        ...  ...       ...       ...       ...   \n",
       "110268   0.000000  0.651503   0.043704  ...  0.063858  0.075845  0.060060   \n",
       "259178   0.051599  0.308541   0.287140  ...  0.428833  0.238701  0.635126   \n",
       "131932   0.000000 -0.126758   0.521570  ...  0.583438  0.506010  0.631523   \n",
       "671155   0.000000  0.537670   0.016471  ...  0.010738  0.054497  0.032934   \n",
       "121958   0.000000  0.411495   0.050676  ...  0.024399  0.000000  0.007792   \n",
       "\n",
       "        D_42_last  B_3_last      D_56      B_19  D_45_last  S_3_mean  D_66_max  \n",
       "182769   0.000000  0.222977  0.145412  0.001598   0.195625  0.184165       0.0  \n",
       "241802   0.000000  0.003450  0.352785  0.001588   0.137131  0.102559       0.0  \n",
       "769241   0.000000  0.002920  0.170342  0.001958   0.727309  0.094266       0.0  \n",
       "786784   0.000000  0.283841  0.058234  0.546189   0.360008  0.206411       0.0  \n",
       "975133   0.000000  0.054372  0.000000  0.187379   0.403125  0.123456       1.0  \n",
       "...           ...       ...       ...       ...        ...       ...       ...  \n",
       "110268   0.000000  0.025882  0.891379  0.085693   0.538916  0.094249       0.0  \n",
       "259178   0.045908  0.234551  0.000000  0.663422   0.024923  0.556933       0.0  \n",
       "131932   0.000000  0.605640  0.000000  0.008190   0.514414  0.682694       0.0  \n",
       "671155   0.000000  0.011278  0.000000  0.004876   0.236419  0.051486       0.0  \n",
       "121958   0.000000  0.003856  0.358576  0.009527   0.329899  0.000000       1.0  \n",
       "\n",
       "[774948 rows x 27 columns]"
      ]
     },
     "execution_count": 115,
     "metadata": {},
     "output_type": "execute_result"
    }
   ],
   "source": [
    "# For missing value imputation, we replace all missing values with 0\n",
    "X_train"
   ]
  },
  {
   "cell_type": "code",
   "execution_count": 124,
   "id": "b111cb85",
   "metadata": {},
   "outputs": [],
   "source": [
    "# For missing value imputation, we replace all missing values with 0\n",
    "X_train.fillna(0,inplace=True)\n",
    "X_test1.fillna(0,inplace=True)\n",
    "X_test2.fillna(0,inplace=True)"
   ]
  },
  {
   "cell_type": "code",
   "execution_count": 118,
   "id": "a5856869",
   "metadata": {
    "collapsed": true
   },
   "outputs": [
    {
     "data": {
      "text/plain": [
       "array(['P_2_last', 'B_1_last', 'B_2_last', 'D_44_max', 'R_1_last',\n",
       "       'B_23_last', 'R_2_last', 'D_42_mean', 'P_2_min', 'B_23_mean',\n",
       "       'D_44_last', 'B_2_mean', 'R_1_std', 'D_48_last', 'D_43_mean',\n",
       "       'D_111_min', 'B_7_std', 'B_7_last', 'S_7_last', 'B_9_last',\n",
       "       'D_42_last', 'B_3_last', 'D_56', 'B_19', 'D_45_last', 'S_3_mean',\n",
       "       'D_66_max'], dtype=object)"
      ]
     },
     "execution_count": 118,
     "metadata": {},
     "output_type": "execute_result"
    }
   ],
   "source": [
    "all_features_to_keep"
   ]
  },
  {
   "cell_type": "code",
   "execution_count": 128,
   "id": "b8e002c8",
   "metadata": {},
   "outputs": [],
   "source": [
    "import tensorflow.keras as keras\n",
    "from keras.models import Sequential\n",
    "from keras.layers import Dense, Dropout\n",
    "from keras.optimizers import Adam\n",
    "from keras.losses import BinaryCrossentropy"
   ]
  },
  {
   "cell_type": "code",
   "execution_count": 129,
   "id": "a06ef058",
   "metadata": {},
   "outputs": [],
   "source": [
    "from sklearn.metrics import roc_auc_score"
   ]
  },
  {
   "cell_type": "code",
   "execution_count": 130,
   "id": "f15f90e2",
   "metadata": {},
   "outputs": [],
   "source": [
    "Grid_Search_Results_nn = pd.DataFrame(columns = [\"HL\", \"Nodes\", \"Activation Function\",\"Dropout\", \"Batch Size\",\n",
    "                                              \"AUC Train\", \"AUC Test 1\", \"AUC Test 2\"])"
   ]
  },
  {
   "cell_type": "code",
   "execution_count": 135,
   "id": "5e4f156f",
   "metadata": {
    "scrolled": true
   },
   "outputs": [
    {
     "name": "stdout",
     "output_type": "stream",
     "text": [
      "\u001b[1m24218/24218\u001b[0m \u001b[32m━━━━━━━━━━━━━━━━━━━━\u001b[0m\u001b[37m\u001b[0m \u001b[1m14s\u001b[0m 594us/step\n",
      "\u001b[1m5190/5190\u001b[0m \u001b[32m━━━━━━━━━━━━━━━━━━━━\u001b[0m\u001b[37m\u001b[0m \u001b[1m3s\u001b[0m 540us/step\n",
      "\u001b[1m5190/5190\u001b[0m \u001b[32m━━━━━━━━━━━━━━━━━━━━\u001b[0m\u001b[37m\u001b[0m \u001b[1m3s\u001b[0m 536us/step\n"
     ]
    },
    {
     "name": "stderr",
     "output_type": "stream",
     "text": [
      "/Users/maverick/anaconda3/lib/python3.10/site-packages/keras/src/layers/core/dense.py:88: UserWarning: Do not pass an `input_shape`/`input_dim` argument to a layer. When using Sequential models, prefer using an `Input(shape)` object as the first layer in the model instead.\n",
      "  super().__init__(activity_regularizer=activity_regularizer, **kwargs)\n"
     ]
    },
    {
     "name": "stdout",
     "output_type": "stream",
     "text": [
      "\u001b[1m24218/24218\u001b[0m \u001b[32m━━━━━━━━━━━━━━━━━━━━\u001b[0m\u001b[37m\u001b[0m \u001b[1m13s\u001b[0m 555us/step\n",
      "\u001b[1m5190/5190\u001b[0m \u001b[32m━━━━━━━━━━━━━━━━━━━━\u001b[0m\u001b[37m\u001b[0m \u001b[1m3s\u001b[0m 534us/step\n",
      "\u001b[1m5190/5190\u001b[0m \u001b[32m━━━━━━━━━━━━━━━━━━━━\u001b[0m\u001b[37m\u001b[0m \u001b[1m3s\u001b[0m 543us/step\n"
     ]
    },
    {
     "name": "stderr",
     "output_type": "stream",
     "text": [
      "/Users/maverick/anaconda3/lib/python3.10/site-packages/keras/src/layers/core/dense.py:88: UserWarning: Do not pass an `input_shape`/`input_dim` argument to a layer. When using Sequential models, prefer using an `Input(shape)` object as the first layer in the model instead.\n",
      "  super().__init__(activity_regularizer=activity_regularizer, **kwargs)\n"
     ]
    },
    {
     "name": "stdout",
     "output_type": "stream",
     "text": [
      "\u001b[1m24218/24218\u001b[0m \u001b[32m━━━━━━━━━━━━━━━━━━━━\u001b[0m\u001b[37m\u001b[0m \u001b[1m16s\u001b[0m 642us/step\n",
      "\u001b[1m5190/5190\u001b[0m \u001b[32m━━━━━━━━━━━━━━━━━━━━\u001b[0m\u001b[37m\u001b[0m \u001b[1m3s\u001b[0m 543us/step\n",
      "\u001b[1m5190/5190\u001b[0m \u001b[32m━━━━━━━━━━━━━━━━━━━━\u001b[0m\u001b[37m\u001b[0m \u001b[1m3s\u001b[0m 537us/step\n"
     ]
    },
    {
     "name": "stderr",
     "output_type": "stream",
     "text": [
      "/Users/maverick/anaconda3/lib/python3.10/site-packages/keras/src/layers/core/dense.py:88: UserWarning: Do not pass an `input_shape`/`input_dim` argument to a layer. When using Sequential models, prefer using an `Input(shape)` object as the first layer in the model instead.\n",
      "  super().__init__(activity_regularizer=activity_regularizer, **kwargs)\n"
     ]
    },
    {
     "name": "stdout",
     "output_type": "stream",
     "text": [
      "\u001b[1m24218/24218\u001b[0m \u001b[32m━━━━━━━━━━━━━━━━━━━━\u001b[0m\u001b[37m\u001b[0m \u001b[1m14s\u001b[0m 574us/step\n",
      "\u001b[1m5190/5190\u001b[0m \u001b[32m━━━━━━━━━━━━━━━━━━━━\u001b[0m\u001b[37m\u001b[0m \u001b[1m3s\u001b[0m 528us/step\n",
      "\u001b[1m5190/5190\u001b[0m \u001b[32m━━━━━━━━━━━━━━━━━━━━\u001b[0m\u001b[37m\u001b[0m \u001b[1m3s\u001b[0m 534us/step\n"
     ]
    },
    {
     "name": "stderr",
     "output_type": "stream",
     "text": [
      "/Users/maverick/anaconda3/lib/python3.10/site-packages/keras/src/layers/core/dense.py:88: UserWarning: Do not pass an `input_shape`/`input_dim` argument to a layer. When using Sequential models, prefer using an `Input(shape)` object as the first layer in the model instead.\n",
      "  super().__init__(activity_regularizer=activity_regularizer, **kwargs)\n"
     ]
    },
    {
     "name": "stdout",
     "output_type": "stream",
     "text": [
      "\u001b[1m24218/24218\u001b[0m \u001b[32m━━━━━━━━━━━━━━━━━━━━\u001b[0m\u001b[37m\u001b[0m \u001b[1m19s\u001b[0m 771us/step\n",
      "\u001b[1m5190/5190\u001b[0m \u001b[32m━━━━━━━━━━━━━━━━━━━━\u001b[0m\u001b[37m\u001b[0m \u001b[1m4s\u001b[0m 850us/step\n",
      "\u001b[1m5190/5190\u001b[0m \u001b[32m━━━━━━━━━━━━━━━━━━━━\u001b[0m\u001b[37m\u001b[0m \u001b[1m5s\u001b[0m 871us/step\n"
     ]
    },
    {
     "name": "stderr",
     "output_type": "stream",
     "text": [
      "/Users/maverick/anaconda3/lib/python3.10/site-packages/keras/src/layers/core/dense.py:88: UserWarning: Do not pass an `input_shape`/`input_dim` argument to a layer. When using Sequential models, prefer using an `Input(shape)` object as the first layer in the model instead.\n",
      "  super().__init__(activity_regularizer=activity_regularizer, **kwargs)\n"
     ]
    },
    {
     "name": "stdout",
     "output_type": "stream",
     "text": [
      "\u001b[1m24218/24218\u001b[0m \u001b[32m━━━━━━━━━━━━━━━━━━━━\u001b[0m\u001b[37m\u001b[0m \u001b[1m17s\u001b[0m 699us/step\n",
      "\u001b[1m5190/5190\u001b[0m \u001b[32m━━━━━━━━━━━━━━━━━━━━\u001b[0m\u001b[37m\u001b[0m \u001b[1m3s\u001b[0m 509us/step\n",
      "\u001b[1m5190/5190\u001b[0m \u001b[32m━━━━━━━━━━━━━━━━━━━━\u001b[0m\u001b[37m\u001b[0m \u001b[1m3s\u001b[0m 487us/step\n"
     ]
    },
    {
     "name": "stderr",
     "output_type": "stream",
     "text": [
      "/Users/maverick/anaconda3/lib/python3.10/site-packages/keras/src/layers/core/dense.py:88: UserWarning: Do not pass an `input_shape`/`input_dim` argument to a layer. When using Sequential models, prefer using an `Input(shape)` object as the first layer in the model instead.\n",
      "  super().__init__(activity_regularizer=activity_regularizer, **kwargs)\n"
     ]
    },
    {
     "name": "stdout",
     "output_type": "stream",
     "text": [
      "\u001b[1m24218/24218\u001b[0m \u001b[32m━━━━━━━━━━━━━━━━━━━━\u001b[0m\u001b[37m\u001b[0m \u001b[1m18s\u001b[0m 726us/step\n",
      "\u001b[1m5190/5190\u001b[0m \u001b[32m━━━━━━━━━━━━━━━━━━━━\u001b[0m\u001b[37m\u001b[0m \u001b[1m3s\u001b[0m 558us/step\n",
      "\u001b[1m5190/5190\u001b[0m \u001b[32m━━━━━━━━━━━━━━━━━━━━\u001b[0m\u001b[37m\u001b[0m \u001b[1m3s\u001b[0m 519us/step\n"
     ]
    },
    {
     "name": "stderr",
     "output_type": "stream",
     "text": [
      "/Users/maverick/anaconda3/lib/python3.10/site-packages/keras/src/layers/core/dense.py:88: UserWarning: Do not pass an `input_shape`/`input_dim` argument to a layer. When using Sequential models, prefer using an `Input(shape)` object as the first layer in the model instead.\n",
      "  super().__init__(activity_regularizer=activity_regularizer, **kwargs)\n"
     ]
    },
    {
     "name": "stdout",
     "output_type": "stream",
     "text": [
      "\u001b[1m24218/24218\u001b[0m \u001b[32m━━━━━━━━━━━━━━━━━━━━\u001b[0m\u001b[37m\u001b[0m \u001b[1m12s\u001b[0m 513us/step\n",
      "\u001b[1m5190/5190\u001b[0m \u001b[32m━━━━━━━━━━━━━━━━━━━━\u001b[0m\u001b[37m\u001b[0m \u001b[1m3s\u001b[0m 505us/step\n",
      "\u001b[1m5190/5190\u001b[0m \u001b[32m━━━━━━━━━━━━━━━━━━━━\u001b[0m\u001b[37m\u001b[0m \u001b[1m3s\u001b[0m 509us/step\n"
     ]
    },
    {
     "name": "stderr",
     "output_type": "stream",
     "text": [
      "/Users/maverick/anaconda3/lib/python3.10/site-packages/keras/src/layers/core/dense.py:88: UserWarning: Do not pass an `input_shape`/`input_dim` argument to a layer. When using Sequential models, prefer using an `Input(shape)` object as the first layer in the model instead.\n",
      "  super().__init__(activity_regularizer=activity_regularizer, **kwargs)\n"
     ]
    },
    {
     "name": "stdout",
     "output_type": "stream",
     "text": [
      "\u001b[1m24218/24218\u001b[0m \u001b[32m━━━━━━━━━━━━━━━━━━━━\u001b[0m\u001b[37m\u001b[0m \u001b[1m13s\u001b[0m 554us/step\n",
      "\u001b[1m5190/5190\u001b[0m \u001b[32m━━━━━━━━━━━━━━━━━━━━\u001b[0m\u001b[37m\u001b[0m \u001b[1m3s\u001b[0m 499us/step\n",
      "\u001b[1m5190/5190\u001b[0m \u001b[32m━━━━━━━━━━━━━━━━━━━━\u001b[0m\u001b[37m\u001b[0m \u001b[1m3s\u001b[0m 513us/step\n"
     ]
    },
    {
     "name": "stderr",
     "output_type": "stream",
     "text": [
      "/Users/maverick/anaconda3/lib/python3.10/site-packages/keras/src/layers/core/dense.py:88: UserWarning: Do not pass an `input_shape`/`input_dim` argument to a layer. When using Sequential models, prefer using an `Input(shape)` object as the first layer in the model instead.\n",
      "  super().__init__(activity_regularizer=activity_regularizer, **kwargs)\n"
     ]
    },
    {
     "name": "stdout",
     "output_type": "stream",
     "text": [
      "\u001b[1m24218/24218\u001b[0m \u001b[32m━━━━━━━━━━━━━━━━━━━━\u001b[0m\u001b[37m\u001b[0m \u001b[1m14s\u001b[0m 561us/step\n",
      "\u001b[1m5190/5190\u001b[0m \u001b[32m━━━━━━━━━━━━━━━━━━━━\u001b[0m\u001b[37m\u001b[0m \u001b[1m3s\u001b[0m 523us/step\n",
      "\u001b[1m5190/5190\u001b[0m \u001b[32m━━━━━━━━━━━━━━━━━━━━\u001b[0m\u001b[37m\u001b[0m \u001b[1m3s\u001b[0m 509us/step\n"
     ]
    },
    {
     "name": "stderr",
     "output_type": "stream",
     "text": [
      "/Users/maverick/anaconda3/lib/python3.10/site-packages/keras/src/layers/core/dense.py:88: UserWarning: Do not pass an `input_shape`/`input_dim` argument to a layer. When using Sequential models, prefer using an `Input(shape)` object as the first layer in the model instead.\n",
      "  super().__init__(activity_regularizer=activity_regularizer, **kwargs)\n"
     ]
    },
    {
     "name": "stdout",
     "output_type": "stream",
     "text": [
      "\u001b[1m24218/24218\u001b[0m \u001b[32m━━━━━━━━━━━━━━━━━━━━\u001b[0m\u001b[37m\u001b[0m \u001b[1m18s\u001b[0m 725us/step\n",
      "\u001b[1m5190/5190\u001b[0m \u001b[32m━━━━━━━━━━━━━━━━━━━━\u001b[0m\u001b[37m\u001b[0m \u001b[1m3s\u001b[0m 545us/step\n",
      "\u001b[1m5190/5190\u001b[0m \u001b[32m━━━━━━━━━━━━━━━━━━━━\u001b[0m\u001b[37m\u001b[0m \u001b[1m3s\u001b[0m 535us/step\n"
     ]
    },
    {
     "name": "stderr",
     "output_type": "stream",
     "text": [
      "/Users/maverick/anaconda3/lib/python3.10/site-packages/keras/src/layers/core/dense.py:88: UserWarning: Do not pass an `input_shape`/`input_dim` argument to a layer. When using Sequential models, prefer using an `Input(shape)` object as the first layer in the model instead.\n",
      "  super().__init__(activity_regularizer=activity_regularizer, **kwargs)\n"
     ]
    },
    {
     "name": "stdout",
     "output_type": "stream",
     "text": [
      "\u001b[1m24218/24218\u001b[0m \u001b[32m━━━━━━━━━━━━━━━━━━━━\u001b[0m\u001b[37m\u001b[0m \u001b[1m13s\u001b[0m 533us/step\n",
      "\u001b[1m5190/5190\u001b[0m \u001b[32m━━━━━━━━━━━━━━━━━━━━\u001b[0m\u001b[37m\u001b[0m \u001b[1m3s\u001b[0m 502us/step\n",
      "\u001b[1m5190/5190\u001b[0m \u001b[32m━━━━━━━━━━━━━━━━━━━━\u001b[0m\u001b[37m\u001b[0m \u001b[1m3s\u001b[0m 506us/step\n"
     ]
    },
    {
     "name": "stderr",
     "output_type": "stream",
     "text": [
      "/Users/maverick/anaconda3/lib/python3.10/site-packages/keras/src/layers/core/dense.py:88: UserWarning: Do not pass an `input_shape`/`input_dim` argument to a layer. When using Sequential models, prefer using an `Input(shape)` object as the first layer in the model instead.\n",
      "  super().__init__(activity_regularizer=activity_regularizer, **kwargs)\n"
     ]
    },
    {
     "name": "stdout",
     "output_type": "stream",
     "text": [
      "\u001b[1m24218/24218\u001b[0m \u001b[32m━━━━━━━━━━━━━━━━━━━━\u001b[0m\u001b[37m\u001b[0m \u001b[1m14s\u001b[0m 584us/step\n",
      "\u001b[1m5190/5190\u001b[0m \u001b[32m━━━━━━━━━━━━━━━━━━━━\u001b[0m\u001b[37m\u001b[0m \u001b[1m3s\u001b[0m 511us/step\n",
      "\u001b[1m5190/5190\u001b[0m \u001b[32m━━━━━━━━━━━━━━━━━━━━\u001b[0m\u001b[37m\u001b[0m \u001b[1m3s\u001b[0m 518us/step\n"
     ]
    },
    {
     "name": "stderr",
     "output_type": "stream",
     "text": [
      "/Users/maverick/anaconda3/lib/python3.10/site-packages/keras/src/layers/core/dense.py:88: UserWarning: Do not pass an `input_shape`/`input_dim` argument to a layer. When using Sequential models, prefer using an `Input(shape)` object as the first layer in the model instead.\n",
      "  super().__init__(activity_regularizer=activity_regularizer, **kwargs)\n"
     ]
    },
    {
     "name": "stdout",
     "output_type": "stream",
     "text": [
      "\u001b[1m24218/24218\u001b[0m \u001b[32m━━━━━━━━━━━━━━━━━━━━\u001b[0m\u001b[37m\u001b[0m \u001b[1m14s\u001b[0m 558us/step\n",
      "\u001b[1m5190/5190\u001b[0m \u001b[32m━━━━━━━━━━━━━━━━━━━━\u001b[0m\u001b[37m\u001b[0m \u001b[1m3s\u001b[0m 540us/step\n",
      "\u001b[1m5190/5190\u001b[0m \u001b[32m━━━━━━━━━━━━━━━━━━━━\u001b[0m\u001b[37m\u001b[0m \u001b[1m3s\u001b[0m 580us/step\n"
     ]
    },
    {
     "name": "stderr",
     "output_type": "stream",
     "text": [
      "/Users/maverick/anaconda3/lib/python3.10/site-packages/keras/src/layers/core/dense.py:88: UserWarning: Do not pass an `input_shape`/`input_dim` argument to a layer. When using Sequential models, prefer using an `Input(shape)` object as the first layer in the model instead.\n",
      "  super().__init__(activity_regularizer=activity_regularizer, **kwargs)\n"
     ]
    },
    {
     "name": "stdout",
     "output_type": "stream",
     "text": [
      "\u001b[1m24218/24218\u001b[0m \u001b[32m━━━━━━━━━━━━━━━━━━━━\u001b[0m\u001b[37m\u001b[0m \u001b[1m14s\u001b[0m 578us/step\n",
      "\u001b[1m5190/5190\u001b[0m \u001b[32m━━━━━━━━━━━━━━━━━━━━\u001b[0m\u001b[37m\u001b[0m \u001b[1m3s\u001b[0m 558us/step\n",
      "\u001b[1m5190/5190\u001b[0m \u001b[32m━━━━━━━━━━━━━━━━━━━━\u001b[0m\u001b[37m\u001b[0m \u001b[1m3s\u001b[0m 550us/step\n"
     ]
    },
    {
     "name": "stderr",
     "output_type": "stream",
     "text": [
      "/Users/maverick/anaconda3/lib/python3.10/site-packages/keras/src/layers/core/dense.py:88: UserWarning: Do not pass an `input_shape`/`input_dim` argument to a layer. When using Sequential models, prefer using an `Input(shape)` object as the first layer in the model instead.\n",
      "  super().__init__(activity_regularizer=activity_regularizer, **kwargs)\n"
     ]
    },
    {
     "name": "stdout",
     "output_type": "stream",
     "text": [
      "\u001b[1m24218/24218\u001b[0m \u001b[32m━━━━━━━━━━━━━━━━━━━━\u001b[0m\u001b[37m\u001b[0m \u001b[1m14s\u001b[0m 570us/step\n",
      "\u001b[1m5190/5190\u001b[0m \u001b[32m━━━━━━━━━━━━━━━━━━━━\u001b[0m\u001b[37m\u001b[0m \u001b[1m3s\u001b[0m 540us/step\n",
      "\u001b[1m5190/5190\u001b[0m \u001b[32m━━━━━━━━━━━━━━━━━━━━\u001b[0m\u001b[37m\u001b[0m \u001b[1m3s\u001b[0m 519us/step\n"
     ]
    },
    {
     "name": "stderr",
     "output_type": "stream",
     "text": [
      "/Users/maverick/anaconda3/lib/python3.10/site-packages/keras/src/layers/core/dense.py:88: UserWarning: Do not pass an `input_shape`/`input_dim` argument to a layer. When using Sequential models, prefer using an `Input(shape)` object as the first layer in the model instead.\n",
      "  super().__init__(activity_regularizer=activity_regularizer, **kwargs)\n"
     ]
    },
    {
     "name": "stdout",
     "output_type": "stream",
     "text": [
      "\u001b[1m24218/24218\u001b[0m \u001b[32m━━━━━━━━━━━━━━━━━━━━\u001b[0m\u001b[37m\u001b[0m \u001b[1m14s\u001b[0m 595us/step\n",
      "\u001b[1m5190/5190\u001b[0m \u001b[32m━━━━━━━━━━━━━━━━━━━━\u001b[0m\u001b[37m\u001b[0m \u001b[1m3s\u001b[0m 513us/step\n",
      "\u001b[1m5190/5190\u001b[0m \u001b[32m━━━━━━━━━━━━━━━━━━━━\u001b[0m\u001b[37m\u001b[0m \u001b[1m3s\u001b[0m 529us/step\n"
     ]
    },
    {
     "name": "stderr",
     "output_type": "stream",
     "text": [
      "/Users/maverick/anaconda3/lib/python3.10/site-packages/keras/src/layers/core/dense.py:88: UserWarning: Do not pass an `input_shape`/`input_dim` argument to a layer. When using Sequential models, prefer using an `Input(shape)` object as the first layer in the model instead.\n",
      "  super().__init__(activity_regularizer=activity_regularizer, **kwargs)\n"
     ]
    },
    {
     "name": "stdout",
     "output_type": "stream",
     "text": [
      "\u001b[1m24218/24218\u001b[0m \u001b[32m━━━━━━━━━━━━━━━━━━━━\u001b[0m\u001b[37m\u001b[0m \u001b[1m14s\u001b[0m 569us/step\n",
      "\u001b[1m5190/5190\u001b[0m \u001b[32m━━━━━━━━━━━━━━━━━━━━\u001b[0m\u001b[37m\u001b[0m \u001b[1m3s\u001b[0m 533us/step\n",
      "\u001b[1m5190/5190\u001b[0m \u001b[32m━━━━━━━━━━━━━━━━━━━━\u001b[0m\u001b[37m\u001b[0m \u001b[1m3s\u001b[0m 532us/step\n"
     ]
    },
    {
     "name": "stderr",
     "output_type": "stream",
     "text": [
      "/Users/maverick/anaconda3/lib/python3.10/site-packages/keras/src/layers/core/dense.py:88: UserWarning: Do not pass an `input_shape`/`input_dim` argument to a layer. When using Sequential models, prefer using an `Input(shape)` object as the first layer in the model instead.\n",
      "  super().__init__(activity_regularizer=activity_regularizer, **kwargs)\n"
     ]
    },
    {
     "name": "stdout",
     "output_type": "stream",
     "text": [
      "\u001b[1m24218/24218\u001b[0m \u001b[32m━━━━━━━━━━━━━━━━━━━━\u001b[0m\u001b[37m\u001b[0m \u001b[1m16s\u001b[0m 675us/step\n",
      "\u001b[1m5190/5190\u001b[0m \u001b[32m━━━━━━━━━━━━━━━━━━━━\u001b[0m\u001b[37m\u001b[0m \u001b[1m3s\u001b[0m 543us/step\n",
      "\u001b[1m5190/5190\u001b[0m \u001b[32m━━━━━━━━━━━━━━━━━━━━\u001b[0m\u001b[37m\u001b[0m \u001b[1m3s\u001b[0m 520us/step\n"
     ]
    },
    {
     "name": "stderr",
     "output_type": "stream",
     "text": [
      "/Users/maverick/anaconda3/lib/python3.10/site-packages/keras/src/layers/core/dense.py:88: UserWarning: Do not pass an `input_shape`/`input_dim` argument to a layer. When using Sequential models, prefer using an `Input(shape)` object as the first layer in the model instead.\n",
      "  super().__init__(activity_regularizer=activity_regularizer, **kwargs)\n"
     ]
    },
    {
     "name": "stdout",
     "output_type": "stream",
     "text": [
      "\u001b[1m24218/24218\u001b[0m \u001b[32m━━━━━━━━━━━━━━━━━━━━\u001b[0m\u001b[37m\u001b[0m \u001b[1m16s\u001b[0m 638us/step\n",
      "\u001b[1m5190/5190\u001b[0m \u001b[32m━━━━━━━━━━━━━━━━━━━━\u001b[0m\u001b[37m\u001b[0m \u001b[1m3s\u001b[0m 529us/step\n",
      "\u001b[1m5190/5190\u001b[0m \u001b[32m━━━━━━━━━━━━━━━━━━━━\u001b[0m\u001b[37m\u001b[0m \u001b[1m3s\u001b[0m 545us/step\n"
     ]
    },
    {
     "name": "stderr",
     "output_type": "stream",
     "text": [
      "/Users/maverick/anaconda3/lib/python3.10/site-packages/keras/src/layers/core/dense.py:88: UserWarning: Do not pass an `input_shape`/`input_dim` argument to a layer. When using Sequential models, prefer using an `Input(shape)` object as the first layer in the model instead.\n",
      "  super().__init__(activity_regularizer=activity_regularizer, **kwargs)\n"
     ]
    },
    {
     "name": "stdout",
     "output_type": "stream",
     "text": [
      "\u001b[1m24218/24218\u001b[0m \u001b[32m━━━━━━━━━━━━━━━━━━━━\u001b[0m\u001b[37m\u001b[0m \u001b[1m15s\u001b[0m 628us/step\n",
      "\u001b[1m5190/5190\u001b[0m \u001b[32m━━━━━━━━━━━━━━━━━━━━\u001b[0m\u001b[37m\u001b[0m \u001b[1m3s\u001b[0m 525us/step\n",
      "\u001b[1m5190/5190\u001b[0m \u001b[32m━━━━━━━━━━━━━━━━━━━━\u001b[0m\u001b[37m\u001b[0m \u001b[1m3s\u001b[0m 564us/step\n"
     ]
    },
    {
     "name": "stderr",
     "output_type": "stream",
     "text": [
      "/Users/maverick/anaconda3/lib/python3.10/site-packages/keras/src/layers/core/dense.py:88: UserWarning: Do not pass an `input_shape`/`input_dim` argument to a layer. When using Sequential models, prefer using an `Input(shape)` object as the first layer in the model instead.\n",
      "  super().__init__(activity_regularizer=activity_regularizer, **kwargs)\n"
     ]
    },
    {
     "name": "stdout",
     "output_type": "stream",
     "text": [
      "\u001b[1m24218/24218\u001b[0m \u001b[32m━━━━━━━━━━━━━━━━━━━━\u001b[0m\u001b[37m\u001b[0m \u001b[1m15s\u001b[0m 598us/step\n",
      "\u001b[1m5190/5190\u001b[0m \u001b[32m━━━━━━━━━━━━━━━━━━━━\u001b[0m\u001b[37m\u001b[0m \u001b[1m3s\u001b[0m 539us/step\n",
      "\u001b[1m5190/5190\u001b[0m \u001b[32m━━━━━━━━━━━━━━━━━━━━\u001b[0m\u001b[37m\u001b[0m \u001b[1m3s\u001b[0m 611us/step\n"
     ]
    },
    {
     "name": "stderr",
     "output_type": "stream",
     "text": [
      "/Users/maverick/anaconda3/lib/python3.10/site-packages/keras/src/layers/core/dense.py:88: UserWarning: Do not pass an `input_shape`/`input_dim` argument to a layer. When using Sequential models, prefer using an `Input(shape)` object as the first layer in the model instead.\n",
      "  super().__init__(activity_regularizer=activity_regularizer, **kwargs)\n"
     ]
    },
    {
     "name": "stdout",
     "output_type": "stream",
     "text": [
      "\u001b[1m24218/24218\u001b[0m \u001b[32m━━━━━━━━━━━━━━━━━━━━\u001b[0m\u001b[37m\u001b[0m \u001b[1m16s\u001b[0m 640us/step\n",
      "\u001b[1m5190/5190\u001b[0m \u001b[32m━━━━━━━━━━━━━━━━━━━━\u001b[0m\u001b[37m\u001b[0m \u001b[1m3s\u001b[0m 520us/step\n",
      "\u001b[1m5190/5190\u001b[0m \u001b[32m━━━━━━━━━━━━━━━━━━━━\u001b[0m\u001b[37m\u001b[0m \u001b[1m3s\u001b[0m 540us/step\n"
     ]
    },
    {
     "name": "stderr",
     "output_type": "stream",
     "text": [
      "/Users/maverick/anaconda3/lib/python3.10/site-packages/keras/src/layers/core/dense.py:88: UserWarning: Do not pass an `input_shape`/`input_dim` argument to a layer. When using Sequential models, prefer using an `Input(shape)` object as the first layer in the model instead.\n",
      "  super().__init__(activity_regularizer=activity_regularizer, **kwargs)\n"
     ]
    },
    {
     "name": "stdout",
     "output_type": "stream",
     "text": [
      "\u001b[1m24218/24218\u001b[0m \u001b[32m━━━━━━━━━━━━━━━━━━━━\u001b[0m\u001b[37m\u001b[0m \u001b[1m15s\u001b[0m 607us/step\n",
      "\u001b[1m5190/5190\u001b[0m \u001b[32m━━━━━━━━━━━━━━━━━━━━\u001b[0m\u001b[37m\u001b[0m \u001b[1m3s\u001b[0m 546us/step\n",
      "\u001b[1m5190/5190\u001b[0m \u001b[32m━━━━━━━━━━━━━━━━━━━━\u001b[0m\u001b[37m\u001b[0m \u001b[1m3s\u001b[0m 561us/step\n"
     ]
    },
    {
     "name": "stderr",
     "output_type": "stream",
     "text": [
      "/Users/maverick/anaconda3/lib/python3.10/site-packages/keras/src/layers/core/dense.py:88: UserWarning: Do not pass an `input_shape`/`input_dim` argument to a layer. When using Sequential models, prefer using an `Input(shape)` object as the first layer in the model instead.\n",
      "  super().__init__(activity_regularizer=activity_regularizer, **kwargs)\n"
     ]
    },
    {
     "name": "stdout",
     "output_type": "stream",
     "text": [
      "\u001b[1m24218/24218\u001b[0m \u001b[32m━━━━━━━━━━━━━━━━━━━━\u001b[0m\u001b[37m\u001b[0m \u001b[1m15s\u001b[0m 605us/step\n",
      "\u001b[1m5190/5190\u001b[0m \u001b[32m━━━━━━━━━━━━━━━━━━━━\u001b[0m\u001b[37m\u001b[0m \u001b[1m3s\u001b[0m 568us/step\n",
      "\u001b[1m5190/5190\u001b[0m \u001b[32m━━━━━━━━━━━━━━━━━━━━\u001b[0m\u001b[37m\u001b[0m \u001b[1m3s\u001b[0m 559us/step\n"
     ]
    },
    {
     "name": "stderr",
     "output_type": "stream",
     "text": [
      "/Users/maverick/anaconda3/lib/python3.10/site-packages/keras/src/layers/core/dense.py:88: UserWarning: Do not pass an `input_shape`/`input_dim` argument to a layer. When using Sequential models, prefer using an `Input(shape)` object as the first layer in the model instead.\n",
      "  super().__init__(activity_regularizer=activity_regularizer, **kwargs)\n"
     ]
    },
    {
     "name": "stdout",
     "output_type": "stream",
     "text": [
      "\u001b[1m24218/24218\u001b[0m \u001b[32m━━━━━━━━━━━━━━━━━━━━\u001b[0m\u001b[37m\u001b[0m \u001b[1m16s\u001b[0m 647us/step\n",
      "\u001b[1m5190/5190\u001b[0m \u001b[32m━━━━━━━━━━━━━━━━━━━━\u001b[0m\u001b[37m\u001b[0m \u001b[1m3s\u001b[0m 590us/step\n",
      "\u001b[1m5190/5190\u001b[0m \u001b[32m━━━━━━━━━━━━━━━━━━━━\u001b[0m\u001b[37m\u001b[0m \u001b[1m4s\u001b[0m 743us/step\n"
     ]
    },
    {
     "name": "stderr",
     "output_type": "stream",
     "text": [
      "/Users/maverick/anaconda3/lib/python3.10/site-packages/keras/src/layers/core/dense.py:88: UserWarning: Do not pass an `input_shape`/`input_dim` argument to a layer. When using Sequential models, prefer using an `Input(shape)` object as the first layer in the model instead.\n",
      "  super().__init__(activity_regularizer=activity_regularizer, **kwargs)\n"
     ]
    },
    {
     "name": "stdout",
     "output_type": "stream",
     "text": [
      "\u001b[1m24218/24218\u001b[0m \u001b[32m━━━━━━━━━━━━━━━━━━━━\u001b[0m\u001b[37m\u001b[0m \u001b[1m15s\u001b[0m 612us/step\n",
      "\u001b[1m5190/5190\u001b[0m \u001b[32m━━━━━━━━━━━━━━━━━━━━\u001b[0m\u001b[37m\u001b[0m \u001b[1m3s\u001b[0m 534us/step\n",
      "\u001b[1m5190/5190\u001b[0m \u001b[32m━━━━━━━━━━━━━━━━━━━━\u001b[0m\u001b[37m\u001b[0m \u001b[1m3s\u001b[0m 536us/step\n"
     ]
    },
    {
     "name": "stderr",
     "output_type": "stream",
     "text": [
      "/Users/maverick/anaconda3/lib/python3.10/site-packages/keras/src/layers/core/dense.py:88: UserWarning: Do not pass an `input_shape`/`input_dim` argument to a layer. When using Sequential models, prefer using an `Input(shape)` object as the first layer in the model instead.\n",
      "  super().__init__(activity_regularizer=activity_regularizer, **kwargs)\n"
     ]
    },
    {
     "name": "stdout",
     "output_type": "stream",
     "text": [
      "\u001b[1m24218/24218\u001b[0m \u001b[32m━━━━━━━━━━━━━━━━━━━━\u001b[0m\u001b[37m\u001b[0m \u001b[1m15s\u001b[0m 633us/step\n",
      "\u001b[1m5190/5190\u001b[0m \u001b[32m━━━━━━━━━━━━━━━━━━━━\u001b[0m\u001b[37m\u001b[0m \u001b[1m3s\u001b[0m 566us/step\n",
      "\u001b[1m5190/5190\u001b[0m \u001b[32m━━━━━━━━━━━━━━━━━━━━\u001b[0m\u001b[37m\u001b[0m \u001b[1m3s\u001b[0m 549us/step\n"
     ]
    },
    {
     "name": "stderr",
     "output_type": "stream",
     "text": [
      "/Users/maverick/anaconda3/lib/python3.10/site-packages/keras/src/layers/core/dense.py:88: UserWarning: Do not pass an `input_shape`/`input_dim` argument to a layer. When using Sequential models, prefer using an `Input(shape)` object as the first layer in the model instead.\n",
      "  super().__init__(activity_regularizer=activity_regularizer, **kwargs)\n"
     ]
    },
    {
     "name": "stdout",
     "output_type": "stream",
     "text": [
      "\u001b[1m24218/24218\u001b[0m \u001b[32m━━━━━━━━━━━━━━━━━━━━\u001b[0m\u001b[37m\u001b[0m \u001b[1m16s\u001b[0m 648us/step\n",
      "\u001b[1m5190/5190\u001b[0m \u001b[32m━━━━━━━━━━━━━━━━━━━━\u001b[0m\u001b[37m\u001b[0m \u001b[1m3s\u001b[0m 528us/step\n",
      "\u001b[1m5190/5190\u001b[0m \u001b[32m━━━━━━━━━━━━━━━━━━━━\u001b[0m\u001b[37m\u001b[0m \u001b[1m3s\u001b[0m 581us/step\n"
     ]
    },
    {
     "name": "stderr",
     "output_type": "stream",
     "text": [
      "/Users/maverick/anaconda3/lib/python3.10/site-packages/keras/src/layers/core/dense.py:88: UserWarning: Do not pass an `input_shape`/`input_dim` argument to a layer. When using Sequential models, prefer using an `Input(shape)` object as the first layer in the model instead.\n",
      "  super().__init__(activity_regularizer=activity_regularizer, **kwargs)\n"
     ]
    },
    {
     "name": "stdout",
     "output_type": "stream",
     "text": [
      "\u001b[1m24218/24218\u001b[0m \u001b[32m━━━━━━━━━━━━━━━━━━━━\u001b[0m\u001b[37m\u001b[0m \u001b[1m14s\u001b[0m 588us/step\n",
      "\u001b[1m5190/5190\u001b[0m \u001b[32m━━━━━━━━━━━━━━━━━━━━\u001b[0m\u001b[37m\u001b[0m \u001b[1m3s\u001b[0m 530us/step\n",
      "\u001b[1m5190/5190\u001b[0m \u001b[32m━━━━━━━━━━━━━━━━━━━━\u001b[0m\u001b[37m\u001b[0m \u001b[1m3s\u001b[0m 535us/step\n"
     ]
    },
    {
     "name": "stderr",
     "output_type": "stream",
     "text": [
      "/Users/maverick/anaconda3/lib/python3.10/site-packages/keras/src/layers/core/dense.py:88: UserWarning: Do not pass an `input_shape`/`input_dim` argument to a layer. When using Sequential models, prefer using an `Input(shape)` object as the first layer in the model instead.\n",
      "  super().__init__(activity_regularizer=activity_regularizer, **kwargs)\n"
     ]
    },
    {
     "name": "stdout",
     "output_type": "stream",
     "text": [
      "\u001b[1m24218/24218\u001b[0m \u001b[32m━━━━━━━━━━━━━━━━━━━━\u001b[0m\u001b[37m\u001b[0m \u001b[1m16s\u001b[0m 645us/step\n",
      "\u001b[1m5190/5190\u001b[0m \u001b[32m━━━━━━━━━━━━━━━━━━━━\u001b[0m\u001b[37m\u001b[0m \u001b[1m3s\u001b[0m 550us/step\n",
      "\u001b[1m5190/5190\u001b[0m \u001b[32m━━━━━━━━━━━━━━━━━━━━\u001b[0m\u001b[37m\u001b[0m \u001b[1m3s\u001b[0m 588us/step\n"
     ]
    },
    {
     "name": "stderr",
     "output_type": "stream",
     "text": [
      "/Users/maverick/anaconda3/lib/python3.10/site-packages/keras/src/layers/core/dense.py:88: UserWarning: Do not pass an `input_shape`/`input_dim` argument to a layer. When using Sequential models, prefer using an `Input(shape)` object as the first layer in the model instead.\n",
      "  super().__init__(activity_regularizer=activity_regularizer, **kwargs)\n"
     ]
    },
    {
     "name": "stdout",
     "output_type": "stream",
     "text": [
      "\u001b[1m24218/24218\u001b[0m \u001b[32m━━━━━━━━━━━━━━━━━━━━\u001b[0m\u001b[37m\u001b[0m \u001b[1m15s\u001b[0m 632us/step\n",
      "\u001b[1m5190/5190\u001b[0m \u001b[32m━━━━━━━━━━━━━━━━━━━━\u001b[0m\u001b[37m\u001b[0m \u001b[1m3s\u001b[0m 583us/step\n",
      "\u001b[1m5190/5190\u001b[0m \u001b[32m━━━━━━━━━━━━━━━━━━━━\u001b[0m\u001b[37m\u001b[0m \u001b[1m3s\u001b[0m 610us/step\n"
     ]
    }
   ],
   "source": [
    "Counter = 0\n",
    "for n_layers in [2, 4]:\n",
    "    for n_nodes in [4, 6]:\n",
    "        for activation in ['relu', 'tanh']:\n",
    "            for dropout in [0 , 0.5]:\n",
    "                for batch_size in [100, 10000]:\n",
    "                    model = Sequential()\n",
    "                    model.add(Dense(n_nodes, input_dim=X_train_nn.shape[1], activation=activation))\n",
    "                    model.add(Dropout(dropout))\n",
    "                    for _ in range(n_layers - 1):\n",
    "                        model.add(Dense(n_nodes, activation=activation))\n",
    "                        model.add(Dropout(dropout))\n",
    "                    model.add(Dense(1, activation='sigmoid'))\n",
    "                    model.compile(optimizer=Adam(), loss=BinaryCrossentropy())\n",
    "                    model.fit(X_train_nn, Y_train, batch_size=batch_size, epochs=20, verbose=0)\n",
    "\n",
    "                    Grid_Search_Results_nn.loc[Counter,\"HL\"] = n_layers\n",
    "                    Grid_Search_Results_nn.loc[Counter,\"Nodes\"] = n_nodes\n",
    "                    Grid_Search_Results_nn.loc[Counter,\"Activation Function\"] = activation\n",
    "                    Grid_Search_Results_nn.loc[Counter,\"Dropout\"] = dropout\n",
    "                    Grid_Search_Results_nn.loc[Counter,\"Batch Size\"] = batch_size\n",
    "                    Grid_Search_Results_nn.loc[Counter,\"AUC Train\"] = roc_auc_score(Y_train, model.predict(X_train))\n",
    "                    Grid_Search_Results_nn.loc[Counter,\"AUC Test 1\"] = roc_auc_score(Y_test1, model.predict(X_test1))\n",
    "                    Grid_Search_Results_nn.loc[Counter,\"AUC Test 2\"] = roc_auc_score(Y_test2, model.predict(X_test2))\n",
    "\n",
    "                    Counter = Counter + 1\n",
    "                    Grid_Search_Results_nn.to_csv(\"/Users/maverick/Downloads/BUAN 6341/Grid_Search_Results_NN.csv\")"
   ]
  },
  {
   "cell_type": "code",
   "execution_count": 146,
   "id": "3eace75b",
   "metadata": {},
   "outputs": [
    {
     "data": {
      "text/plain": [
       "{'HL': 4,\n",
       " 'Nodes': 6,\n",
       " 'Activation Function': 'tanh',\n",
       " 'Dropout': 0,\n",
       " 'Batch Size': 100}"
      ]
     },
     "execution_count": 146,
     "metadata": {},
     "output_type": "execute_result"
    }
   ],
   "source": [
    "# Step 15: Choose best Neural Network model\n",
    "best_model_idx = Grid_Search_Results_nn[['AUC Train', 'AUC Test 1', 'AUC Test 2']].mean(axis=1).idxmax()\n",
    "best_params = Grid_Search_Results_nn.iloc[best_model_idx, :5].to_dict()\n",
    "best_params"
   ]
  },
  {
   "cell_type": "code",
   "execution_count": 149,
   "id": "ad621f84",
   "metadata": {},
   "outputs": [
    {
     "data": {
      "text/plain": [
       "<keras.src.callbacks.history.History at 0x7fdc7055e380>"
      ]
     },
     "execution_count": 149,
     "metadata": {},
     "output_type": "execute_result"
    }
   ],
   "source": [
    "best_nn_model = Sequential()\n",
    "best_nn_model.add(Dense(best_params['Nodes'], input_dim=X_train_nn.shape[1], activation=best_params['Activation Function']))\n",
    "best_nn_model.add(Dropout(best_params['Dropout']))\n",
    "for _ in range(best_params['HL'] - 1):\n",
    "    best_nn_model.add(Dense(best_params['Nodes'], activation=best_params['Activation Function']))\n",
    "    best_nn_model.add(Dropout(best_params['Dropout']))\n",
    "best_nn_model.add(Dense(1, activation='sigmoid'))\n",
    "best_nn_model.compile(optimizer=Adam(), loss=BinaryCrossentropy())\n",
    "best_nn_model.fit(X_train_nn, Y_train, batch_size=best_params['Batch Size'], epochs=20, verbose=0)\n"
   ]
  },
  {
   "cell_type": "code",
   "execution_count": 154,
   "id": "ea26026b",
   "metadata": {},
   "outputs": [],
   "source": [
    "# Step 16: Choose final model\n",
    "# Since the AUC values for all 3 - X_Train, X_Test1 and X_Test2 is more in the XGBoost model than the \n",
    "# NN model and the bias variance is also lesser, we choose XGBoost Model."
   ]
  },
  {
   "cell_type": "code",
   "execution_count": 155,
   "id": "7d31cf88",
   "metadata": {},
   "outputs": [],
   "source": [
    "# Step 17: Strategy function\n",
    "def calculate_strategy_performance(data, target_col, model_output_col, balance_col, spend_col, threshold):\n",
    "    accepted = data[data[model_output_col] < threshold]\n",
    "    rejected = data[data[model_output_col] >= threshold]\n",
    "    \n",
    "    portfolio_default_rate = accepted[target_col].mean()\n",
    "    \n",
    "    accepted_defaulters = accepted[accepted[target_col] == 1]\n",
    "    accepted_non_defaulters = accepted[accepted[target_col] == 0]\n",
    "    \n",
    "    defaulter_revenue = 0\n",
    "    non_defaulter_revenue = accepted_non_defaulters[balance_col].mean() * 0.02 + accepted_non_defaulters[spend_col].mean() * 0.001\n",
    "    non_defaulter_revenue *= 12  # For 12 months\n",
    "    \n",
    "    portfolio_revenue = non_defaulter_revenue * len(accepted_non_defaulters)\n",
    "    \n",
    "    return portfolio_default_rate, portfolio_revenue"
   ]
  },
  {
   "cell_type": "code",
   "execution_count": null,
   "id": "46a66226",
   "metadata": {},
   "outputs": [],
   "source": []
  }
 ],
 "metadata": {
  "kernelspec": {
   "display_name": "Python 3 (ipykernel)",
   "language": "python",
   "name": "python3"
  },
  "language_info": {
   "codemirror_mode": {
    "name": "ipython",
    "version": 3
   },
   "file_extension": ".py",
   "mimetype": "text/x-python",
   "name": "python",
   "nbconvert_exporter": "python",
   "pygments_lexer": "ipython3",
   "version": "3.10.9"
  }
 },
 "nbformat": 4,
 "nbformat_minor": 5
}
